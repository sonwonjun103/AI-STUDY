{
  "nbformat": 4,
  "nbformat_minor": 0,
  "metadata": {
    "colab": {
      "name": "Chapter5.ipynb",
      "provenance": [],
      "collapsed_sections": []
    },
    "kernelspec": {
      "name": "python3",
      "display_name": "Python 3"
    },
    "language_info": {
      "name": "python"
    }
  },
  "cells": [
    {
      "cell_type": "code",
      "execution_count": 1,
      "metadata": {
        "id": "xNLXneYqEblJ"
      },
      "outputs": [],
      "source": [
        "import numpy as np\n",
        "import matplotlib.pyplot as plt\n",
        "import pandas as pd"
      ]
    },
    {
      "cell_type": "code",
      "source": [
        "class MulLayer:\n",
        "    def __init__(self):\n",
        "        self.x=None\n",
        "        self.y=None\n",
        "\n",
        "    def forward(self, x, y):\n",
        "        self.x=x\n",
        "        self.y=y\n",
        "        out=x*y\n",
        "\n",
        "        return out\n",
        "\n",
        "    def backward(self, dout): #dout는 미분\n",
        "        dx=dout*self.y #x와 y를 바꾼다.\n",
        "        dy=dout*self.x\n",
        "\n",
        "        return dx, dy"
      ],
      "metadata": {
        "id": "gZdhIgg9EkJt"
      },
      "execution_count": 2,
      "outputs": []
    },
    {
      "cell_type": "code",
      "source": [
        "apple=100\n",
        "apple_num=2\n",
        "tax=1.1\n",
        "\n",
        "mul_apple_layer=MulLayer()\n",
        "mul_tax_layer=MulLayer()\n",
        "\n",
        "apple_price=mul_apple_layer.forward(apple, apple_num)\n",
        "price=mul_tax_layer.forward(apple_price, tax)\n",
        "\n",
        "print(price)"
      ],
      "metadata": {
        "colab": {
          "base_uri": "https://localhost:8080/"
        },
        "id": "_O4qyrPGE1xq",
        "outputId": "d2ba6b9c-290b-4321-dc8e-7ab156c7558f"
      },
      "execution_count": 3,
      "outputs": [
        {
          "output_type": "stream",
          "name": "stdout",
          "text": [
            "220.00000000000003\n"
          ]
        }
      ]
    },
    {
      "cell_type": "code",
      "source": [
        "dprice=1\n",
        "dapple_price, dtax=mul_tax_layer.backward(dprice)\n",
        "dapple, dapple_num=mul_apple_layer.backward(dapple_price)\n",
        "\n",
        "print(dapple, dapple_num, dtax)"
      ],
      "metadata": {
        "colab": {
          "base_uri": "https://localhost:8080/"
        },
        "id": "Josn6MBLFQVp",
        "outputId": "e5d51177-76ba-45d7-c8a9-59b253721bfb"
      },
      "execution_count": 4,
      "outputs": [
        {
          "output_type": "stream",
          "name": "stdout",
          "text": [
            "2.2 110.00000000000001 200\n"
          ]
        }
      ]
    },
    {
      "cell_type": "code",
      "source": [
        "class AddLayer:\n",
        "    def __init__(self):\n",
        "        pass\n",
        "\n",
        "    def forward(self, x,y):\n",
        "        out=x+y\n",
        "\n",
        "        return out\n",
        "\n",
        "    def backward(self, dout):\n",
        "        dx=dout*1\n",
        "        dy=dout*1\n",
        "\n",
        "        return dx, dy"
      ],
      "metadata": {
        "id": "N-XmNRB8Fht5"
      },
      "execution_count": 5,
      "outputs": []
    },
    {
      "cell_type": "code",
      "source": [
        "apple=100\n",
        "apple_num=2\n",
        "orange=150\n",
        "orange_num=3\n",
        "tax=1.1\n",
        "\n",
        "mul_apple_layer=MulLayer()\n",
        "mul_orange_layer=MulLayer()\n",
        "add_apple_orange_layer=AddLayer()\n",
        "mul_tax_layer=MulLayer()\n",
        "\n",
        "#순전파\n",
        "apple_price=mul_apple_layer.forward(apple, apple_num)\n",
        "orange_price=mul_orange_layer.forward(orange, orange_num)\n",
        "all_price=add_apple_orange_layer.forward(apple_price, orange_price)\n",
        "price=mul_tax_layer.forward(all_price, tax)\n",
        "\n",
        "#역전파\n",
        "dprice=1\n",
        "dall_price, dtax=mul_tax_layer.backward(dprice)\n",
        "dapple_price, dorange_price=add_apple_orange_layer.backward(dall_price)\n",
        "dorange, dorange_num=mul_orange_layer.backward(dorange_price)\n",
        "dapple, dapple_num=mul_apple_layer.backward(dapple_price)\n",
        "\n",
        "print(price)\n",
        "print(dapple_num, dapple, dorange, dorange_num, dtax)"
      ],
      "metadata": {
        "colab": {
          "base_uri": "https://localhost:8080/"
        },
        "id": "y7-gvM3HF2Mz",
        "outputId": "09b4ddc9-7def-45ba-f564-41be4594ce2c"
      },
      "execution_count": 6,
      "outputs": [
        {
          "output_type": "stream",
          "name": "stdout",
          "text": [
            "715.0000000000001\n",
            "110.00000000000001 2.2 3.3000000000000003 165.0 650\n"
          ]
        }
      ]
    },
    {
      "cell_type": "code",
      "source": [
        "class Relu:\n",
        "    def __init__(self):\n",
        "        self.mask=None\n",
        "\n",
        "    def forward(self, x):\n",
        "        self.mask=(x<=0)\n",
        "        out=x.copy()\n",
        "        out[self.mask]=0\n",
        "\n",
        "        return out\n",
        "\n",
        "    def backward(self, dout):\n",
        "        dout[self.mask]=0\n",
        "        dx=dout\n",
        "\n",
        "        return dx"
      ],
      "metadata": {
        "id": "_Xp816HPHC1P"
      },
      "execution_count": 7,
      "outputs": []
    },
    {
      "cell_type": "code",
      "source": [
        "x=np.array([[1.0, -0.5], [-2.0, 3.0]])\n",
        "print(x)"
      ],
      "metadata": {
        "colab": {
          "base_uri": "https://localhost:8080/"
        },
        "id": "G9INd8Q2urdt",
        "outputId": "7190f337-e866-4e09-f252-1d7c114d331c"
      },
      "execution_count": 8,
      "outputs": [
        {
          "output_type": "stream",
          "name": "stdout",
          "text": [
            "[[ 1.  -0.5]\n",
            " [-2.   3. ]]\n"
          ]
        }
      ]
    },
    {
      "cell_type": "code",
      "source": [
        "mask=(x<=0)\n",
        "print(mask)"
      ],
      "metadata": {
        "colab": {
          "base_uri": "https://localhost:8080/"
        },
        "id": "nI5wwMTVwKYe",
        "outputId": "6ac2c0cd-b96e-49c3-a55d-2f04f4a205cc"
      },
      "execution_count": 9,
      "outputs": [
        {
          "output_type": "stream",
          "name": "stdout",
          "text": [
            "[[False  True]\n",
            " [ True False]]\n"
          ]
        }
      ]
    },
    {
      "cell_type": "code",
      "source": [
        "class Sigmoid:\n",
        "    def __init__(self):\n",
        "        self.out=None\n",
        "\n",
        "    def forward(self, x):\n",
        "        out=1/(1+np.exp(-x))\n",
        "        self.out=out\n",
        "\n",
        "        return out\n",
        "\n",
        "    def backward(self, dout):\n",
        "        dx=dout*(1.0-self.out)*self.out\n",
        "\n",
        "        return dx"
      ],
      "metadata": {
        "id": "QYE-eEA8wMy1"
      },
      "execution_count": 10,
      "outputs": []
    },
    {
      "cell_type": "code",
      "source": [
        "X_dot_W=np.array([[0,0,0],[10,10,10]])\n",
        "B=np.array([1,2,3])\n",
        "print(X_dot_W+B)"
      ],
      "metadata": {
        "colab": {
          "base_uri": "https://localhost:8080/"
        },
        "id": "kvKZ9Q503VJu",
        "outputId": "dac96a17-03e8-4f64-8707-3b3c84bf6d38"
      },
      "execution_count": 11,
      "outputs": [
        {
          "output_type": "stream",
          "name": "stdout",
          "text": [
            "[[ 1  2  3]\n",
            " [11 12 13]]\n"
          ]
        }
      ]
    },
    {
      "cell_type": "code",
      "source": [
        "dY=np.array([[1,2,3],[4,5,6]])\n",
        "print(dY)\n",
        "\n",
        "dB=np.sum(dY,axis=0)\n",
        "print(dB)"
      ],
      "metadata": {
        "colab": {
          "base_uri": "https://localhost:8080/"
        },
        "id": "Ktw7CrhAHfHx",
        "outputId": "615bf3d8-aad3-4ce4-a488-1aa28872428e"
      },
      "execution_count": 12,
      "outputs": [
        {
          "output_type": "stream",
          "name": "stdout",
          "text": [
            "[[1 2 3]\n",
            " [4 5 6]]\n",
            "[5 7 9]\n"
          ]
        }
      ]
    },
    {
      "cell_type": "code",
      "source": [
        "class Affine:\n",
        "    def __init__(self, W, b):\n",
        "        self.W=W\n",
        "        self.b=b\n",
        "        self.x=None\n",
        "        self.dW=None\n",
        "        self.db=None\n",
        "\n",
        "    def forward(self, x):\n",
        "        self.x=x\n",
        "        out=np.dot(x,self.W)+self.b\n",
        "\n",
        "        return out\n",
        "\n",
        "    def backward(self, dout):\n",
        "        dx=np.dot(dout, self.W.T)\n",
        "        self.dW=np.dot(self.x.T, dout)\n",
        "        self.db=np.sum(dout, axis=0)\n",
        "\n",
        "        return dx"
      ],
      "metadata": {
        "id": "xKPzlZR8HvHs"
      },
      "execution_count": 13,
      "outputs": []
    },
    {
      "cell_type": "code",
      "source": [
        "class SoftmaxWithLoss:\n",
        "    def __init__(self):\n",
        "        self.loss=None #손실\n",
        "        self.y=None #softmax의 출력\n",
        "        self.t=None #정답 레이블(원-핫 코딩)\n",
        "\n",
        "    def forward(self, x, t):\n",
        "        self.t=t\n",
        "        self.y=softmax(x)\n",
        "        self.loss=cross_entropy_error(self.y, self.t)\n",
        "        \n",
        "        return self.loss\n",
        "\n",
        "    def backward(self, dout=1):\n",
        "        batch_size=self.t.shape[0]\n",
        "        dx=(self.y-self.t)/batch_size\n",
        "\n",
        "        return dx"
      ],
      "metadata": {
        "id": "868h4X9mIRD2"
      },
      "execution_count": 14,
      "outputs": []
    },
    {
      "cell_type": "code",
      "source": [
        "from google.colab import drive\n",
        "drive.mount('/content/drive')"
      ],
      "metadata": {
        "id": "_q3gfWTUF34E",
        "colab": {
          "base_uri": "https://localhost:8080/"
        },
        "outputId": "3fe459e5-e217-44b9-e090-3ca486e0da58"
      },
      "execution_count": 15,
      "outputs": [
        {
          "output_type": "stream",
          "name": "stdout",
          "text": [
            "Mounted at /content/drive\n"
          ]
        }
      ]
    },
    {
      "cell_type": "code",
      "source": [
        "import sys,os\n",
        "sys.path.append('/content/drive/MyDrive/연구실/밑바닥부터 시작하는 딥러닝/common')"
      ],
      "metadata": {
        "id": "bhAQNBrdbr0M"
      },
      "execution_count": 16,
      "outputs": []
    },
    {
      "cell_type": "code",
      "source": [
        "import numpy as np\n",
        "from layers import *\n",
        "from gradient import numerical_gradient\n",
        "from collections import OrderedDict"
      ],
      "metadata": {
        "colab": {
          "base_uri": "https://localhost:8080/"
        },
        "id": "6Ei4oi5rXyu0",
        "outputId": "669d87c5-0d72-465c-c56a-e1041e9ee11f"
      },
      "execution_count": 17,
      "outputs": [
        {
          "output_type": "stream",
          "name": "stdout",
          "text": [
            "Drive already mounted at /content/drive; to attempt to forcibly remount, call drive.mount(\"/content/drive\", force_remount=True).\n"
          ]
        }
      ]
    },
    {
      "cell_type": "code",
      "source": [
        "class TwoLayerNet:\n",
        "    def __init__(self, input_size, hidden_size, output_size, weight_init_std=0.01):\n",
        "        self.params={}\n",
        "        self.params['W1']=weight_init_std*np.random.randn(input_size, hidden_size)\n",
        "        self.params['b1']=np.zeros(hidden_size)\n",
        "        self.params['W2']=weight_init_std*np.random.rand(hidden_size, output_size)\n",
        "        self.params['b2']=np.zeros(output_size)\n",
        "\n",
        "        self.layers=OrderedDict()\n",
        "        self.layers['Affine1']=Affine(self.params['W1'], self.parmas['b1'])\n",
        "        self.layers['Relu1']=Relu()\n",
        "        self.layers['Affine2']=Affine(self.params['W2'], self.params['b2'])\n",
        "\n",
        "        self.lastLayer=SoftmaxWithLoss()\n",
        "\n",
        "    def predict(self, x):\n",
        "        for layer in self.layers.values():\n",
        "            x=layer.forward()\n",
        "\n",
        "        return x\n",
        "\n",
        "        self.layers['Affine1']=Affine(self.params['W1'], self.params['b1'])\n",
        "        self.layers['Relu1']=Relu()\n",
        "        self.layers['Affine2']=Affine(self.params['W2'], self.params['b2'])\n",
        "\n",
        "        self.lastLayer=SoftmaxWithLoss()\n",
        "\n",
        "    def predict(self, x):\n",
        "        for layer in self.layers.values():\n",
        "            x=layer.forward(x)\n",
        "\n",
        "        return x\n",
        "\n",
        "    def loss(self, x, t):\n",
        "        y=self.predict(x)\n",
        "        return self.lastLayer.forward(y,t)\n",
        "\n",
        "    def accuracy(self, x, t):\n",
        "        y=self.predict(x)\n",
        "        y=np.argmax(y, axis=1)\n",
        "        if t.ndim!=1:\n",
        "            t=np.argmax(t, axis=1)\n",
        "\n",
        "        accuracy=np.sum(y==t) / float(x.shape[0])\n",
        "        return accuracy\n",
        "\n",
        "    def numerical_gradient(self, x, t):\n",
        "        loss_W=lambda W:self.loss(x,t)\n",
        "\n",
        "        grads={}\n",
        "        grads['W1']=numerical_gradient(loss_W, self.params['W1'])\n",
        "        grads['b1']=numerical_gradient(loss_W, self.params['b1'])\n",
        "        grads['W2']=numerical_gradient(loss_W, self.params['W2'])\n",
        "        grads['b2']=numerical_gradient(loss_W, self.params['b2'])\n",
        "\n",
        "    def gradient(self, x, t):\n",
        "        self.loss(x,t)\n",
        "\n",
        "        dout=1\n",
        "        dout=self.lastLayer.backward(dout)\n",
        "\n",
        "        layers=list(self.layers.values())\n",
        "        layers.reverse()\n",
        "        for layer in layers:\n",
        "            dout=layer.backward(dout)\n",
        "\n",
        "        grads={}\n",
        "        grads['W1']=self.layers['Affine1'].dW\n",
        "        grads['b1']=self.layers['Affine1'].db\n",
        "        grads['W2']=self.layers['Affine2'].dW\n",
        "        grads['b2']=self.layers['Affine2'].db\n",
        "\n",
        "        return grads"
      ],
      "metadata": {
        "id": "2d2CFKcpYsEM"
      },
      "execution_count": 18,
      "outputs": []
    },
    {
      "cell_type": "code",
      "source": [
        "sys.path.append('/content/drive/MyDrive/연구실/밑바닥부터 시작하는 딥러닝/dataset')"
      ],
      "metadata": {
        "id": "9biTArlSfg4W"
      },
      "execution_count": 19,
      "outputs": []
    },
    {
      "cell_type": "code",
      "source": [
        "from two_layer_net import TwoLayerNet\n",
        "from mnist import load_mnist"
      ],
      "metadata": {
        "id": "YwQhrfewfZ0d",
        "colab": {
          "base_uri": "https://localhost:8080/"
        },
        "outputId": "54ce53e2-12a7-4efc-fc9f-d39043e5e5c4"
      },
      "execution_count": 20,
      "outputs": [
        {
          "output_type": "stream",
          "name": "stdout",
          "text": [
            "Drive already mounted at /content/drive; to attempt to forcibly remount, call drive.mount(\"/content/drive\", force_remount=True).\n"
          ]
        }
      ]
    },
    {
      "cell_type": "code",
      "source": [
        "(x_train, t_train),(x_test, t_test)=load_mnist(normalize=True, flatten=True, one_hot_label=True)\n",
        "\n",
        "network=TwoLayerNet(input_size=784, hidden_size=50, output_size=10)\n",
        "\n",
        "x_batch=x_train[:3]\n",
        "t_batch=t_train[:3]\n",
        "\n",
        "grad_numerical=network.numerical_gradient(x_batch, t_batch)\n",
        "grad_backprop=network.gradient(x_batch, t_batch)\n",
        "\n",
        "for key in grad_numerical.keys():\n",
        "    diff=np.average(np.abs(grad_backprop[key]-grad_numerical[key]))\n",
        "    print(key+\":\"+str(diff))"
      ],
      "metadata": {
        "colab": {
          "base_uri": "https://localhost:8080/"
        },
        "id": "UT-YIxEIffXG",
        "outputId": "3445d5f3-c95a-420b-bee3-77ee49abf811"
      },
      "execution_count": 25,
      "outputs": [
        {
          "output_type": "stream",
          "name": "stdout",
          "text": [
            "W1:1.9365696908222647e-10\n",
            "b1:9.161735802166093e-10\n",
            "W2:7.083748064183603e-08\n",
            "b2:1.400502470522147e-07\n"
          ]
        }
      ]
    },
    {
      "cell_type": "code",
      "source": [
        "print(x_train.shape)\n",
        "print(t_train.shape)"
      ],
      "metadata": {
        "colab": {
          "base_uri": "https://localhost:8080/"
        },
        "id": "CfRVwtcz_N6q",
        "outputId": "8bfda099-5911-40aa-f74a-abed935cf3bc"
      },
      "execution_count": 23,
      "outputs": [
        {
          "output_type": "stream",
          "name": "stdout",
          "text": [
            "(60000, 784)\n",
            "(60000,)\n"
          ]
        }
      ]
    },
    {
      "cell_type": "code",
      "source": [
        "print(x_batch.shape)\n",
        "print(t_batch.shape)"
      ],
      "metadata": {
        "colab": {
          "base_uri": "https://localhost:8080/"
        },
        "id": "3q9FHDn3-Rbo",
        "outputId": "5ea743e3-6924-48df-958c-70202595019d"
      },
      "execution_count": 22,
      "outputs": [
        {
          "output_type": "stream",
          "name": "stdout",
          "text": [
            "(3, 784)\n",
            "(3,)\n"
          ]
        }
      ]
    },
    {
      "cell_type": "code",
      "source": [
        "iters_num=10000\n",
        "train_size=x_train.shape[0]\n",
        "batch_size=100\n",
        "learning_rate=0.1\n",
        "\n",
        "train_loss_list=[]\n",
        "train_acc_list=[]\n",
        "test_acc_list=[]\n",
        "\n",
        "iter_per_epoch=max(train_size/batch_size, 1)\n",
        "\n",
        "for i in range(iters_num):\n",
        "    batch_mask=np.random.choice(train_size, batch_size)\n",
        "    x_batch=x_train[batch_mask]\n",
        "    t_batch=t_train[batch_mask]\n",
        "\n",
        "    grad=network.gradient(x_batch, t_batch)\n",
        "\n",
        "    for key in ('W1','b1','W2','b2'):\n",
        "        network.params[key]-=learning_rate*grad[key]\n",
        "\n",
        "    loss=network.loss(x_batch, t_batch)\n",
        "    train_loss_list.append(loss)\n",
        "\n",
        "    if i%iter_per_epoch==0:\n",
        "        train_acc=network.accuracy(x_train, t_train)\n",
        "        test_acc=network.accuracy(x_test, t_test)\n",
        "        train_acc_list.append(train_acc)\n",
        "        test_acc_list.append(test_acc)\n",
        "        print(train_acc, test_acc)"
      ],
      "metadata": {
        "colab": {
          "base_uri": "https://localhost:8080/"
        },
        "id": "Xf5ecApjDhgv",
        "outputId": "b90b8470-e17d-4538-ebf4-98f3093abedd"
      },
      "execution_count": 27,
      "outputs": [
        {
          "output_type": "stream",
          "name": "stdout",
          "text": [
            "0.10218333333333333 0.101\n",
            "0.7769 0.784\n",
            "0.8766666666666667 0.8808\n",
            "0.8993 0.9029\n",
            "0.9075 0.9117\n",
            "0.91515 0.917\n",
            "0.9205166666666666 0.9219\n",
            "0.9238666666666666 0.9278\n",
            "0.9277 0.9304\n",
            "0.9314333333333333 0.9331\n",
            "0.9339 0.9345\n",
            "0.9377833333333333 0.9376\n",
            "0.9396166666666667 0.9395\n",
            "0.9406666666666667 0.9413\n",
            "0.9430333333333333 0.943\n",
            "0.945 0.9443\n",
            "0.9468833333333333 0.9463\n"
          ]
        }
      ]
    }
  ]
}
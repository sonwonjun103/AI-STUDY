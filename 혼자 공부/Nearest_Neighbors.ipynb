{
  "nbformat": 4,
  "nbformat_minor": 0,
  "metadata": {
    "colab": {
      "name": "Nearest Neighbors.ipynb",
      "provenance": []
    },
    "kernelspec": {
      "name": "python3",
      "display_name": "Python 3"
    },
    "language_info": {
      "name": "python"
    }
  },
  "cells": [
    {
      "cell_type": "markdown",
      "source": [
        "# Finding the Neareast Neighbors"
      ],
      "metadata": {
        "id": "XjFBUZutlISJ"
      }
    },
    {
      "cell_type": "markdown",
      "source": [
        "## -NearestNeighbors parameter\n",
        "### n_neighbors : int, default=5 ==> Number of neighbors to use by default for kneighbors queries\n",
        "### radius : float, default=1.0 ==> Range of parameter space to use by default for radius_neighbors queries\n",
        "### algorithm : {'auto', 'ball_tree', 'kd_tree', 'brute'}, default='auto' ==> Algorithm used to compute the nearest neighbors\n",
        "### leaf_size : int, default=30 ==> This can affect the speed of the construction and query, as well as the memory required to store the tree\n",
        "### n_jobs : int, default=None ==> The number fo parallel jobs to run for neighbors search"
      ],
      "metadata": {
        "id": "04EpQEpil-1T"
      }
    },
    {
      "cell_type": "code",
      "execution_count": 1,
      "metadata": {
        "id": "Z_obOwy_kA9Z"
      },
      "outputs": [],
      "source": [
        "from sklearn.neighbors import NearestNeighbors\n",
        "import numpy as np\n",
        "\n",
        "X=np.array([[-1,-1],[-2,1],[-3,-2],[1,1],[2,1],[3,2]])\n",
        "nbrs=NearestNeighbors(n_neighbors=2, algorithm='ball_tree').fit(X)"
      ]
    },
    {
      "cell_type": "code",
      "source": [
        "distances, indices=nbrs.kneighbors(X)"
      ],
      "metadata": {
        "id": "YTr0CUzOllh5"
      },
      "execution_count": 2,
      "outputs": []
    },
    {
      "cell_type": "code",
      "source": [
        "indices"
      ],
      "metadata": {
        "colab": {
          "base_uri": "https://localhost:8080/"
        },
        "id": "0arx_1xRloKz",
        "outputId": "51001fff-d03c-475f-98f7-fcb87d6edb13"
      },
      "execution_count": 3,
      "outputs": [
        {
          "output_type": "execute_result",
          "data": {
            "text/plain": [
              "array([[0, 1],\n",
              "       [1, 0],\n",
              "       [2, 0],\n",
              "       [3, 4],\n",
              "       [4, 3],\n",
              "       [5, 4]])"
            ]
          },
          "metadata": {},
          "execution_count": 3
        }
      ]
    },
    {
      "cell_type": "code",
      "source": [
        "distances"
      ],
      "metadata": {
        "colab": {
          "base_uri": "https://localhost:8080/"
        },
        "id": "Qqjp5Ka0lo8s",
        "outputId": "701b3e3c-e38b-4c7f-a7aa-b2efc201b69f"
      },
      "execution_count": 4,
      "outputs": [
        {
          "output_type": "execute_result",
          "data": {
            "text/plain": [
              "array([[0.        , 2.23606798],\n",
              "       [0.        , 2.23606798],\n",
              "       [0.        , 2.23606798],\n",
              "       [0.        , 1.        ],\n",
              "       [0.        , 1.        ],\n",
              "       [0.        , 1.41421356]])"
            ]
          },
          "metadata": {},
          "execution_count": 4
        }
      ]
    },
    {
      "cell_type": "code",
      "source": [
        "samples=[[0,0,2],[1,0,0],[0,0,1]]"
      ],
      "metadata": {
        "id": "3nvYtw8ylpRg"
      },
      "execution_count": 5,
      "outputs": []
    },
    {
      "cell_type": "code",
      "source": [
        "neigh=NearestNeighbors(n_neighbors=2, radius=0.4)\n",
        "neigh.fit(samples)"
      ],
      "metadata": {
        "colab": {
          "base_uri": "https://localhost:8080/"
        },
        "id": "Tb0BvpUboVZz",
        "outputId": "7618f7bc-9108-44bb-deb2-b9deb605aeda"
      },
      "execution_count": 6,
      "outputs": [
        {
          "output_type": "execute_result",
          "data": {
            "text/plain": [
              "NearestNeighbors(n_neighbors=2, radius=0.4)"
            ]
          },
          "metadata": {},
          "execution_count": 6
        }
      ]
    },
    {
      "cell_type": "code",
      "source": [
        "neigh.kneighbors([[0,0,1.3]], 2, return_distance=False)"
      ],
      "metadata": {
        "colab": {
          "base_uri": "https://localhost:8080/"
        },
        "id": "eyb37mHXoat7",
        "outputId": "dfeb4b1e-d3a2-4c8c-e037-5960687dbfb5"
      },
      "execution_count": 8,
      "outputs": [
        {
          "output_type": "execute_result",
          "data": {
            "text/plain": [
              "array([[2, 0]])"
            ]
          },
          "metadata": {},
          "execution_count": 8
        }
      ]
    },
    {
      "cell_type": "code",
      "source": [
        "nbrs=neigh.radius_neighbors(\n",
        "    [[0,0,1.3]], 0.4, return_distance=False\n",
        ")\n",
        "np.asarray(nbrs[0][0])"
      ],
      "metadata": {
        "colab": {
          "base_uri": "https://localhost:8080/"
        },
        "id": "2ZkR69W3ofrx",
        "outputId": "5e6dff12-70d3-4fc2-8b5e-b3c035b4c2f6"
      },
      "execution_count": 9,
      "outputs": [
        {
          "output_type": "execute_result",
          "data": {
            "text/plain": [
              "array(2)"
            ]
          },
          "metadata": {},
          "execution_count": 9
        }
      ]
    },
    {
      "cell_type": "code",
      "source": [
        "samples=[[0. , 0., 0.],[0., .5, 0.], [1., 1., .5]]\n",
        "\n",
        "neigh=NearestNeighbors(n_neighbors=1)\n",
        "neigh.fit(samples)\n",
        "print(neigh.kneighbors([[1., 1., 1.]]))"
      ],
      "metadata": {
        "colab": {
          "base_uri": "https://localhost:8080/"
        },
        "id": "EAfcRYstppPY",
        "outputId": "8c1f4a84-4e60-4932-fedf-6f8f8b108286"
      },
      "execution_count": 10,
      "outputs": [
        {
          "output_type": "stream",
          "name": "stdout",
          "text": [
            "(array([[0.5]]), array([[2]]))\n"
          ]
        }
      ]
    },
    {
      "cell_type": "markdown",
      "source": [
        "거리가 0.5이고 샘플의 세번째 요소이다"
      ],
      "metadata": {
        "id": "Leg7eSppskPi"
      }
    },
    {
      "cell_type": "code",
      "source": [
        "X=[[0. , 1., 0.], [1., 0., 1.]]\n",
        "neigh.kneighbors(X, return_distance=False)"
      ],
      "metadata": {
        "colab": {
          "base_uri": "https://localhost:8080/"
        },
        "id": "PZCV6g42qJVl",
        "outputId": "026d8561-170f-4d15-f8ec-fb3efbc20c6c"
      },
      "execution_count": 11,
      "outputs": [
        {
          "output_type": "execute_result",
          "data": {
            "text/plain": [
              "array([[1],\n",
              "       [2]])"
            ]
          },
          "metadata": {},
          "execution_count": 11
        }
      ]
    },
    {
      "cell_type": "code",
      "source": [
        ""
      ],
      "metadata": {
        "id": "xPNkPfwcs7L9"
      },
      "execution_count": null,
      "outputs": []
    }
  ]
}
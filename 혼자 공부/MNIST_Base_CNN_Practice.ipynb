{
  "nbformat": 4,
  "nbformat_minor": 0,
  "metadata": {
    "colab": {
      "name": "MNIST_Base_CNN_Practice.ipynb",
      "provenance": []
    },
    "kernelspec": {
      "name": "python3",
      "display_name": "Python 3"
    },
    "language_info": {
      "name": "python"
    },
    "accelerator": "GPU",
    "gpuClass": "standard"
  },
  "cells": [
    {
      "cell_type": "code",
      "execution_count": 40,
      "metadata": {
        "id": "EVrTk573-1vM"
      },
      "outputs": [],
      "source": [
        "from sklearn.datasets import fetch_openml\n",
        "import numpy as np\n",
        "import pandas as pd\n",
        "import matplotlib.pyplot as plt"
      ]
    },
    {
      "cell_type": "code",
      "source": [
        "np.random.seed(42)"
      ],
      "metadata": {
        "id": "cjh2vySPM95E"
      },
      "execution_count": 41,
      "outputs": []
    },
    {
      "cell_type": "code",
      "source": [
        "mnist=fetch_openml(\"mnist_784\", version=1, as_frame=False)"
      ],
      "metadata": {
        "id": "MTcBI-Hc-92t"
      },
      "execution_count": 42,
      "outputs": []
    },
    {
      "cell_type": "code",
      "source": [
        "X=mnist['data']\n",
        "y=mnist['target']"
      ],
      "metadata": {
        "id": "ry3bpsbA_kvy"
      },
      "execution_count": 43,
      "outputs": []
    },
    {
      "cell_type": "code",
      "source": [
        "from sklearn.model_selection import train_test_split"
      ],
      "metadata": {
        "id": "VUYM51lp_6M5"
      },
      "execution_count": 44,
      "outputs": []
    },
    {
      "cell_type": "code",
      "source": [
        "X_train, X_test, y_train, y_test=train_test_split(X,y)"
      ],
      "metadata": {
        "id": "WGU-ioxOAgzQ"
      },
      "execution_count": 45,
      "outputs": []
    },
    {
      "cell_type": "code",
      "source": [
        "print(X_train.shape, y_train.shape, X_test.shape, y_test.shape)"
      ],
      "metadata": {
        "colab": {
          "base_uri": "https://localhost:8080/"
        },
        "id": "8OiVRHquA1tI",
        "outputId": "51364b88-e8da-4cd4-fbb8-22971521a1fb"
      },
      "execution_count": 46,
      "outputs": [
        {
          "output_type": "stream",
          "name": "stdout",
          "text": [
            "(52500, 784) (52500,) (17500, 784) (17500,)\n"
          ]
        }
      ]
    },
    {
      "cell_type": "code",
      "source": [
        "y_train=y_train.astype('int64')"
      ],
      "metadata": {
        "id": "V6YWc-ydbXsp"
      },
      "execution_count": 69,
      "outputs": []
    },
    {
      "cell_type": "code",
      "source": [
        "y_test=y_test.astype('int64')"
      ],
      "metadata": {
        "id": "j31mytVReAd4"
      },
      "execution_count": 98,
      "outputs": []
    },
    {
      "cell_type": "code",
      "source": [
        "y_train"
      ],
      "metadata": {
        "colab": {
          "base_uri": "https://localhost:8080/"
        },
        "id": "jDZD2BrXA6m5",
        "outputId": "7235bc32-c481-4773-cb4e-15db8fdfcdb7"
      },
      "execution_count": 70,
      "outputs": [
        {
          "output_type": "execute_result",
          "data": {
            "text/plain": [
              "array([3, 2, 8, ..., 1, 0, 0])"
            ]
          },
          "metadata": {},
          "execution_count": 70
        }
      ]
    },
    {
      "cell_type": "code",
      "source": [
        "X_train=X_train/255\n",
        "X_test=X_test/255"
      ],
      "metadata": {
        "id": "9r0VA6ICBd7i"
      },
      "execution_count": 60,
      "outputs": []
    },
    {
      "cell_type": "code",
      "source": [
        "#CNN에 적용시키기 위하여 4차원으로 변형\n",
        "X_train=X_train.reshape((X_train.shape[0], 28, 28, 1))\n",
        "X_test=X_test.reshape((X_test.shape[0], 28, 28, 1))"
      ],
      "metadata": {
        "id": "rfJbVo60Cgi2"
      },
      "execution_count": 61,
      "outputs": []
    },
    {
      "cell_type": "code",
      "source": [
        "from tensorflow.keras import layers, models"
      ],
      "metadata": {
        "id": "fLxVkt-mCvQc"
      },
      "execution_count": 62,
      "outputs": []
    },
    {
      "cell_type": "code",
      "source": [
        "CNN_model=models.Sequential([\n",
        "    #채널 32\n",
        "    layers.Conv2D(32, kernel_size=(5,5), padding='same', input_shape=(28,28,1),activation='relu', strides=(1,1)),\n",
        "    layers.MaxPool2D(pool_size=(2,2), strides=(2,2)),\n",
        "    layers.Conv2D(64, (2,2), padding='same', activation='relu'),\n",
        "    layers.MaxPool2D(pool_size=(2,2)),\n",
        "    layers.Dropout(0.1),\n",
        "    layers.Flatten(),\n",
        "    layers.Dense(1000,activation='relu'),\n",
        "    layers.Dense(10, activation='softmax')\n",
        "])"
      ],
      "metadata": {
        "id": "wu9RIMxOC2Ll"
      },
      "execution_count": 73,
      "outputs": []
    },
    {
      "cell_type": "code",
      "source": [
        "CNN_model.summary()"
      ],
      "metadata": {
        "colab": {
          "base_uri": "https://localhost:8080/"
        },
        "id": "4H9LNBHwE-qp",
        "outputId": "aa3ff3ef-1eef-4248-de85-3b95c743e143"
      },
      "execution_count": 74,
      "outputs": [
        {
          "output_type": "stream",
          "name": "stdout",
          "text": [
            "Model: \"sequential_11\"\n",
            "_________________________________________________________________\n",
            " Layer (type)                Output Shape              Param #   \n",
            "=================================================================\n",
            " conv2d_22 (Conv2D)          (None, 28, 28, 32)        832       \n",
            "                                                                 \n",
            " max_pooling2d_22 (MaxPoolin  (None, 14, 14, 32)       0         \n",
            " g2D)                                                            \n",
            "                                                                 \n",
            " conv2d_23 (Conv2D)          (None, 14, 14, 64)        8256      \n",
            "                                                                 \n",
            " max_pooling2d_23 (MaxPoolin  (None, 7, 7, 64)         0         \n",
            " g2D)                                                            \n",
            "                                                                 \n",
            " dropout_11 (Dropout)        (None, 7, 7, 64)          0         \n",
            "                                                                 \n",
            " flatten_10 (Flatten)        (None, 3136)              0         \n",
            "                                                                 \n",
            " dense_22 (Dense)            (None, 1000)              3137000   \n",
            "                                                                 \n",
            " dense_23 (Dense)            (None, 10)                10010     \n",
            "                                                                 \n",
            "=================================================================\n",
            "Total params: 3,156,098\n",
            "Trainable params: 3,156,098\n",
            "Non-trainable params: 0\n",
            "_________________________________________________________________\n"
          ]
        }
      ]
    },
    {
      "cell_type": "code",
      "source": [
        "CNN_model.compile(optimizer='adam', loss = 'sparse_categorical_crossentropy', metrics=['accuracy'])"
      ],
      "metadata": {
        "id": "346Ef4g-FAN8"
      },
      "execution_count": 75,
      "outputs": []
    },
    {
      "cell_type": "code",
      "source": [
        "hist=CNN_model.fit(X_train, y_train, epochs=50, verbose = 1)"
      ],
      "metadata": {
        "colab": {
          "base_uri": "https://localhost:8080/"
        },
        "id": "4pcc1SANIQ43",
        "outputId": "ffa455fb-1b6b-4017-c993-d7d755f15baa"
      },
      "execution_count": 109,
      "outputs": [
        {
          "output_type": "stream",
          "name": "stdout",
          "text": [
            "Epoch 1/50\n",
            "1641/1641 [==============================] - 7s 4ms/step - loss: 0.0379 - accuracy: 0.9874\n",
            "Epoch 2/50\n",
            "1641/1641 [==============================] - 6s 4ms/step - loss: 0.0314 - accuracy: 0.9897\n",
            "Epoch 3/50\n",
            "1641/1641 [==============================] - 6s 3ms/step - loss: 0.0288 - accuracy: 0.9902\n",
            "Epoch 4/50\n",
            "1641/1641 [==============================] - 6s 4ms/step - loss: 0.0239 - accuracy: 0.9922\n",
            "Epoch 5/50\n",
            "1641/1641 [==============================] - 6s 4ms/step - loss: 0.0214 - accuracy: 0.9930\n",
            "Epoch 6/50\n",
            "1641/1641 [==============================] - 6s 4ms/step - loss: 0.0189 - accuracy: 0.9938\n",
            "Epoch 7/50\n",
            "1641/1641 [==============================] - 6s 4ms/step - loss: 0.0179 - accuracy: 0.9940\n",
            "Epoch 8/50\n",
            "1641/1641 [==============================] - 6s 4ms/step - loss: 0.0157 - accuracy: 0.9951\n",
            "Epoch 9/50\n",
            "1641/1641 [==============================] - 6s 4ms/step - loss: 0.0144 - accuracy: 0.9953\n",
            "Epoch 10/50\n",
            "1641/1641 [==============================] - 6s 3ms/step - loss: 0.0129 - accuracy: 0.9956\n",
            "Epoch 11/50\n",
            "1641/1641 [==============================] - 6s 3ms/step - loss: 0.0127 - accuracy: 0.9958\n",
            "Epoch 12/50\n",
            "1641/1641 [==============================] - 6s 3ms/step - loss: 0.0112 - accuracy: 0.9962\n",
            "Epoch 13/50\n",
            "1641/1641 [==============================] - 6s 4ms/step - loss: 0.0106 - accuracy: 0.9967\n",
            "Epoch 14/50\n",
            "1641/1641 [==============================] - 6s 4ms/step - loss: 0.0102 - accuracy: 0.9965\n",
            "Epoch 15/50\n",
            "1641/1641 [==============================] - 6s 4ms/step - loss: 0.0085 - accuracy: 0.9970\n",
            "Epoch 16/50\n",
            "1641/1641 [==============================] - 6s 4ms/step - loss: 0.0085 - accuracy: 0.9970\n",
            "Epoch 17/50\n",
            "1641/1641 [==============================] - 6s 3ms/step - loss: 0.0073 - accuracy: 0.9975\n",
            "Epoch 18/50\n",
            "1641/1641 [==============================] - 6s 4ms/step - loss: 0.0074 - accuracy: 0.9976\n",
            "Epoch 19/50\n",
            "1641/1641 [==============================] - 6s 4ms/step - loss: 0.0069 - accuracy: 0.9976\n",
            "Epoch 20/50\n",
            "1641/1641 [==============================] - 6s 4ms/step - loss: 0.0068 - accuracy: 0.9976\n",
            "Epoch 21/50\n",
            "1641/1641 [==============================] - 6s 4ms/step - loss: 0.0062 - accuracy: 0.9978\n",
            "Epoch 22/50\n",
            "1641/1641 [==============================] - 6s 4ms/step - loss: 0.0068 - accuracy: 0.9976\n",
            "Epoch 23/50\n",
            "1641/1641 [==============================] - 6s 4ms/step - loss: 0.0067 - accuracy: 0.9976\n",
            "Epoch 24/50\n",
            "1641/1641 [==============================] - 6s 4ms/step - loss: 0.0057 - accuracy: 0.9980\n",
            "Epoch 25/50\n",
            "1641/1641 [==============================] - 6s 4ms/step - loss: 0.0053 - accuracy: 0.9980\n",
            "Epoch 26/50\n",
            "1641/1641 [==============================] - 6s 4ms/step - loss: 0.0050 - accuracy: 0.9981\n",
            "Epoch 27/50\n",
            "1641/1641 [==============================] - 6s 3ms/step - loss: 0.0060 - accuracy: 0.9978\n",
            "Epoch 28/50\n",
            "1641/1641 [==============================] - 6s 4ms/step - loss: 0.0039 - accuracy: 0.9986\n",
            "Epoch 29/50\n",
            "1641/1641 [==============================] - 6s 3ms/step - loss: 0.0051 - accuracy: 0.9981\n",
            "Epoch 30/50\n",
            "1641/1641 [==============================] - 6s 3ms/step - loss: 0.0044 - accuracy: 0.9983\n",
            "Epoch 31/50\n",
            "1641/1641 [==============================] - 6s 3ms/step - loss: 0.0050 - accuracy: 0.9981\n",
            "Epoch 32/50\n",
            "1641/1641 [==============================] - 6s 4ms/step - loss: 0.0057 - accuracy: 0.9980\n",
            "Epoch 33/50\n",
            "1641/1641 [==============================] - 6s 4ms/step - loss: 0.0035 - accuracy: 0.9987\n",
            "Epoch 34/50\n",
            "1641/1641 [==============================] - 6s 4ms/step - loss: 0.0056 - accuracy: 0.9981\n",
            "Epoch 35/50\n",
            "1641/1641 [==============================] - 6s 4ms/step - loss: 0.0044 - accuracy: 0.9987\n",
            "Epoch 36/50\n",
            "1641/1641 [==============================] - 6s 4ms/step - loss: 0.0038 - accuracy: 0.9986\n",
            "Epoch 37/50\n",
            "1641/1641 [==============================] - 6s 4ms/step - loss: 0.0040 - accuracy: 0.9985\n",
            "Epoch 38/50\n",
            "1641/1641 [==============================] - 7s 4ms/step - loss: 0.0039 - accuracy: 0.9989\n",
            "Epoch 39/50\n",
            "1641/1641 [==============================] - 6s 4ms/step - loss: 0.0029 - accuracy: 0.9989\n",
            "Epoch 40/50\n",
            "1641/1641 [==============================] - 6s 4ms/step - loss: 0.0046 - accuracy: 0.9983\n",
            "Epoch 41/50\n",
            "1641/1641 [==============================] - 6s 4ms/step - loss: 0.0042 - accuracy: 0.9986\n",
            "Epoch 42/50\n",
            "1641/1641 [==============================] - 6s 4ms/step - loss: 0.0032 - accuracy: 0.9990\n",
            "Epoch 43/50\n",
            "1641/1641 [==============================] - 6s 4ms/step - loss: 0.0037 - accuracy: 0.9988\n",
            "Epoch 44/50\n",
            "1641/1641 [==============================] - 6s 3ms/step - loss: 0.0034 - accuracy: 0.9989\n",
            "Epoch 45/50\n",
            "1641/1641 [==============================] - 6s 4ms/step - loss: 0.0033 - accuracy: 0.9990\n",
            "Epoch 46/50\n",
            "1641/1641 [==============================] - 6s 3ms/step - loss: 0.0035 - accuracy: 0.9990\n",
            "Epoch 47/50\n",
            "1641/1641 [==============================] - 6s 4ms/step - loss: 0.0031 - accuracy: 0.9989\n",
            "Epoch 48/50\n",
            "1641/1641 [==============================] - 6s 4ms/step - loss: 0.0034 - accuracy: 0.9988\n",
            "Epoch 49/50\n",
            "1641/1641 [==============================] - 6s 4ms/step - loss: 0.0029 - accuracy: 0.9989\n",
            "Epoch 50/50\n",
            "1641/1641 [==============================] - 6s 4ms/step - loss: 0.0036 - accuracy: 0.9988\n"
          ]
        }
      ]
    },
    {
      "cell_type": "code",
      "source": [
        "plt.figure(figsize=(15,7))\n",
        "plt.plot(hist.history['loss'])\n",
        "plt.xlabel('epochs')\n",
        "plt.ylabel('loss')\n",
        "plt.show()"
      ],
      "metadata": {
        "colab": {
          "base_uri": "https://localhost:8080/",
          "height": 442
        },
        "id": "tfM-AFTweI5I",
        "outputId": "3b3abd68-fc6e-4de5-da4e-63e08060f99c"
      },
      "execution_count": 110,
      "outputs": [
        {
          "output_type": "display_data",
          "data": {
            "text/plain": [
              "<Figure size 1080x504 with 1 Axes>"
            ],
            "image/png": "[encoded data removed]"
          },
          "metadata": {
            "needs_background": "light"
          }
        }
      ]
    },
    {
      "cell_type": "code",
      "source": [
        "plt.figure(figsize=(15,7))\n",
        "plt.plot(hist.history['accuracy'])\n",
        "plt.xlabel('epochs')\n",
        "plt.ylabel('accuracy')\n",
        "plt.show()"
      ],
      "metadata": {
        "colab": {
          "base_uri": "https://localhost:8080/",
          "height": 442
        },
        "id": "p0RVpl8me5dJ",
        "outputId": "f0137967-21e2-4873-efd9-d5a69469bf45"
      },
      "execution_count": 111,
      "outputs": [
        {
          "output_type": "display_data",
          "data": {
            "text/plain": [
              "<Figure size 1080x504 with 1 Axes>"
            ],
            "image/png": "[encoded data removed]"
          },
          "metadata": {
            "needs_background": "light"
          }
        }
      ]
    },
    {
      "cell_type": "code",
      "source": [
        "X_test_predict=CNN_model.predict(X_test)"
      ],
      "metadata": {
        "id": "kRvY46AAcL8J"
      },
      "execution_count": 112,
      "outputs": []
    },
    {
      "cell_type": "code",
      "source": [
        "X_test_predict.shape"
      ],
      "metadata": {
        "colab": {
          "base_uri": "https://localhost:8080/"
        },
        "id": "PSc7J4SWcPBI",
        "outputId": "e502ba5f-16ac-4c39-a78f-62d9d02f788d"
      },
      "execution_count": 113,
      "outputs": [
        {
          "output_type": "execute_result",
          "data": {
            "text/plain": [
              "(17500, 10)"
            ]
          },
          "metadata": {},
          "execution_count": 113
        }
      ]
    },
    {
      "cell_type": "code",
      "source": [
        "info=[]\n",
        "for i in range(len(X_test_predict)):\n",
        "    for j in range(10):\n",
        "        if max(X_test_predict[i])==X_test_predict[i][j]:\n",
        "            info.append(j)"
      ],
      "metadata": {
        "id": "9yuTat7Ic0ZX"
      },
      "execution_count": 114,
      "outputs": []
    },
    {
      "cell_type": "code",
      "source": [
        "count=0\n",
        "for i in range(17500):\n",
        "    if y_test[i]==info[i]:\n",
        "        count+=1"
      ],
      "metadata": {
        "id": "UoeP7sXMc0k_"
      },
      "execution_count": 115,
      "outputs": []
    },
    {
      "cell_type": "code",
      "source": [
        "print(count/17500)"
      ],
      "metadata": {
        "colab": {
          "base_uri": "https://localhost:8080/"
        },
        "id": "WSsd9AJ3dF7_",
        "outputId": "945776e5-6dec-4b67-a758-e6eb0082ef81"
      },
      "execution_count": 116,
      "outputs": [
        {
          "output_type": "stream",
          "name": "stdout",
          "text": [
            "0.9890285714285715\n"
          ]
        }
      ]
    },
    {
      "cell_type": "code",
      "source": [
        ""
      ],
      "metadata": {
        "id": "CbwLOFsSe_fH"
      },
      "execution_count": 116,
      "outputs": []
    }
  ]
}
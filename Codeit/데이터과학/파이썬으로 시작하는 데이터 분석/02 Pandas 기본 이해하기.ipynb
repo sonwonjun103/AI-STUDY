{
 "cells": [
  {
   "cell_type": "markdown",
   "id": "3738133c",
   "metadata": {},
   "source": [
    "# 02 Pandas 기본 이해하기"
   ]
  },
  {
   "cell_type": "code",
   "execution_count": 1,
   "id": "3070c194",
   "metadata": {},
   "outputs": [
    {
     "name": "stdout",
     "output_type": "stream",
     "text": [
      "a    1\n",
      "b    2\n",
      "c    3\n",
      "d    4\n",
      "Name: Title, dtype: int64 \n",
      "\n",
      "korea      5180\n",
      "japan     12718\n",
      "china    141500\n",
      "usa       32676\n",
      "dtype: int64\n"
     ]
    }
   ],
   "source": [
    "import numpy as np\n",
    "import pandas as pd\n",
    "\n",
    "# 예시) 시리즈 데이터를 만드는 방법.\n",
    "series = pd.Series([1,2,3,4], index = ['a', 'b', 'c', 'd'], name=\"Title\")\n",
    "print(series, \"\\n\")\n",
    "\n",
    "\n",
    "# 국가별 인구 수 시리즈 데이터를 딕셔너리를 사용하여 만들어보세요.\n",
    "country=pd.Series([5180,12718,141500,32676], index=['korea','japan','china','usa'])\n",
    "\n",
    "print(country)\n"
   ]
  },
  {
   "cell_type": "code",
   "execution_count": 2,
   "id": "21891986",
   "metadata": {},
   "outputs": [
    {
     "name": "stdout",
     "output_type": "stream",
     "text": [
      "Population series data:\n",
      "korea      5180\n",
      "japan     12718\n",
      "china    141500\n",
      "usa       32676\n",
      "dtype: int64 \n",
      "\n",
      "GDP series data:\n",
      "korea     169320000\n",
      "japan     516700000\n",
      "china    1409250000\n",
      "usa      2041280000\n",
      "dtype: int64 \n",
      "\n",
      "Country DataFrame\n",
      "       population         gdp\n",
      "korea        5180   169320000\n",
      "japan       12718   516700000\n",
      "china      141500  1409250000\n",
      "usa         32676  2041280000\n",
      "       population         gdp  gdp per capita\n",
      "korea        5180   169320000    32687.258687\n",
      "japan       12718   516700000    40627.457147\n",
      "china      141500  1409250000     9959.363958\n",
      "usa         32676  2041280000    62470.314604\n",
      "Index(['korea', 'japan', 'china', 'usa'], dtype='object')\n",
      "Index(['population', 'gdp', 'gdp per capita'], dtype='object')\n"
     ]
    }
   ],
   "source": [
    "import numpy as np\n",
    "import pandas as pd\n",
    "\n",
    "# 두 개의 시리즈 데이터가 있습니다.\n",
    "print(\"Population series data:\")\n",
    "population_dict = {\n",
    "    'korea': 5180,\n",
    "    'japan': 12718,\n",
    "    'china': 141500,\n",
    "    'usa': 32676\n",
    "}\n",
    "population = pd.Series(population_dict)\n",
    "print(population, \"\\n\")\n",
    "\n",
    "print(\"GDP series data:\")\n",
    "gdp_dict = {\n",
    "    'korea': 169320000,\n",
    "    'japan': 516700000,\n",
    "    'china': 1409250000,\n",
    "    'usa': 2041280000,\n",
    "}\n",
    "gdp = pd.Series(gdp_dict)\n",
    "print(gdp, \"\\n\")\n",
    "\n",
    "\n",
    "# 이곳에서 2개의 시리즈 값이 들어간 데이터프레임을 생성합니다.\n",
    "print(\"Country DataFrame\")\n",
    "country = pd.DataFrame({\n",
    "    'population':population,\n",
    "    'gdp':gdp\n",
    "})\n",
    "print(country)\n",
    "\n",
    "# 데이터 프레임에 gdp per capita 칼럼을 추가하고 출력합니다.\n",
    "gdp_per_capita=country['gdp']/country['population']\n",
    "country['gdp per capita']=gdp_per_capita\n",
    "print(country)\n",
    "\n",
    "# 데이터 프레임을 만들었다면, index와 column도 각각 확인해보세요.\n",
    "print(country.index)\n",
    "print(country.columns)"
   ]
  },
  {
   "cell_type": "code",
   "execution_count": null,
   "id": "0442a819",
   "metadata": {},
   "outputs": [],
   "source": [
    "import numpy as np\n",
    "import pandas as pd\n",
    "\n",
    "# 첫번째 컬럼을 인덱스로 country.csv 파일 읽어오기.\n",
    "print(\"Country DataFrame\")\n",
    "country = pd.read_csv(\"./data/country.csv\", index_col=0)\n",
    "print(country, \"\\n\")\n",
    "\n",
    "# 명시적 인덱싱을 사용하여 데이터프레임의 \"china\" 인덱스를 출력해봅시다.\n",
    "print(country.loc['china'])\n",
    "\n",
    "\n",
    "# 정수 인덱싱을 사용하여 데이터프레임의 1번째부터 3번째 인덱스를 출력해봅시다.\n",
    "print(country.iloc[1:4])"
   ]
  },
  {
   "cell_type": "code",
   "execution_count": 3,
   "id": "2a4dce87",
   "metadata": {},
   "outputs": [
    {
     "name": "stdout",
     "output_type": "stream",
     "text": [
      "A: \n",
      "   A  B\n",
      "0  4  4\n",
      "1  5  9 \n",
      "\n",
      "B: \n",
      "   B  A  C\n",
      "0  9  6  1\n",
      "1  5  9  8\n",
      "2  4  7  4 \n",
      "\n",
      "      A     B   C\n",
      "0  10.0  13.0 NaN\n",
      "1  14.0  14.0 NaN\n",
      "2   NaN   NaN NaN\n",
      "      A     B    C\n",
      "0  10.0  13.0  1.0\n",
      "1  14.0  14.0  8.0\n",
      "2   7.0   4.0  4.0\n"
     ]
    }
   ],
   "source": [
    "import numpy as np\n",
    "import pandas as pd\n",
    "\n",
    "\n",
    "print(\"A: \")\n",
    "A = pd.DataFrame(np.random.randint(0, 10, (2, 2)), columns=['A', 'B'])      #칼럼이 A, B입니다.\n",
    "print(A, \"\\n\")\n",
    "\n",
    "\n",
    "print(\"B: \")\n",
    "B = pd.DataFrame(np.random.randint(0, 10, (3, 3)), columns=['B', 'A', 'C'])     #칼럼이 B, A, C입니다.\n",
    "print(B, \"\\n\")\n",
    "\n",
    "\n",
    "# 아래에 다양한 연산을 자유롭게 적용해보세요.\n",
    "print(A+B)\n",
    "print(A.add(B, fill_value=0))\n"
   ]
  },
  {
   "cell_type": "code",
   "execution_count": 4,
   "id": "501aac41",
   "metadata": {},
   "outputs": [
    {
     "name": "stdout",
     "output_type": "stream",
     "text": [
      "DataFrame: \n",
      "   col1 col2  col3\n",
      "0     2    A     0\n",
      "1     1    A     1\n",
      "2     9    B     9\n",
      "3     8  NaN     4\n",
      "4     7    D     2\n",
      "5     4    C     3 \n",
      "\n",
      "   col1 col2  col3\n",
      "1     1    A     1\n",
      "0     2    A     0\n",
      "5     4    C     3\n",
      "4     7    D     2\n",
      "3     8  NaN     4\n",
      "2     9    B     9\n",
      "   col1 col2  col3\n",
      "4     7    D     2\n",
      "5     4    C     3\n",
      "2     9    B     9\n",
      "0     2    A     0\n",
      "1     1    A     1\n",
      "3     8  NaN     4\n",
      "   col1 col2  col3\n",
      "0     2    A     0\n",
      "1     1    A     1\n",
      "2     9    B     9\n",
      "5     4    C     3\n",
      "4     7    D     2\n",
      "3     8  NaN     4\n"
     ]
    }
   ],
   "source": [
    "import numpy as np\n",
    "import pandas as pd\n",
    "\n",
    "print(\"DataFrame: \")\n",
    "df = pd.DataFrame({\n",
    "    'col1' : [2, 1, 9, 8, 7, 4],\n",
    "    'col2' : ['A', 'A', 'B', np.nan, 'D', 'C'],\n",
    "    'col3': [0, 1, 9, 4, 2, 3],\n",
    "})\n",
    "print(df, \"\\n\")\n",
    "\n",
    "\n",
    "# 정렬 코드 입력해보기    \n",
    "# Q1. col1을 기준으로 오름차순으로 정렬하기.\n",
    "sorted_df1=df.sort_values('col1')\n",
    "print(sorted_df1)\n",
    "\n",
    "# Q2. col2를 기준으로 내림차순으로 정렬하기.\n",
    "sorted_df2=df.sort_values('col2', ascending=False)\n",
    "print(sorted_df2)\n",
    "\n",
    "# Q3. col2를 기준으로 오름차순으로, col1를 기준으로 내림차순으로 정렬하기.\n",
    "sorted_df3 = df.sort_values(['col2', 'col1'], ascending=[True, False])\n",
    "print(sorted_df3)"
   ]
  }
 ],
 "metadata": {
  "kernelspec": {
   "display_name": "Python 3 (ipykernel)",
   "language": "python",
   "name": "python3"
  },
  "language_info": {
   "codemirror_mode": {
    "name": "ipython",
    "version": 3
   },
   "file_extension": ".py",
   "mimetype": "text/x-python",
   "name": "python",
   "nbconvert_exporter": "python",
   "pygments_lexer": "ipython3",
   "version": "3.9.7"
  }
 },
 "nbformat": 4,
 "nbformat_minor": 5
}

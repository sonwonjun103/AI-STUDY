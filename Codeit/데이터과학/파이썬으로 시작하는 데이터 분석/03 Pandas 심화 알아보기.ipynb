{
 "cells": [
  {
   "cell_type": "markdown",
   "id": "bd25cf76",
   "metadata": {},
   "source": [
    "# 03 Pandas 심화 알아보기"
   ]
  },
  {
   "cell_type": "code",
   "execution_count": 1,
   "id": "5de991a0",
   "metadata": {},
   "outputs": [
    {
     "name": "stdout",
     "output_type": "stream",
     "text": [
      "Masking & query\n",
      "          A         B\n",
      "0  0.084892  0.336983\n",
      "1  0.928409  0.516120\n",
      "2  0.206005  0.445950\n",
      "3  0.431231  0.912955\n",
      "4  0.957844  0.226966 \n",
      "\n",
      "          A         B\n",
      "0  0.084892  0.336983\n",
      "2  0.206005  0.445950\n",
      "3  0.431231  0.912955\n",
      "          A         B\n",
      "0  0.084892  0.336983\n",
      "2  0.206005  0.445950\n",
      "3  0.431231  0.912955\n"
     ]
    }
   ],
   "source": [
    "import numpy as np\n",
    "import pandas as pd\n",
    "\n",
    "print(\"Masking & query\")\n",
    "df = pd.DataFrame(np.random.rand(5, 2), columns=[\"A\", \"B\"])\n",
    "print(df, \"\\n\")\n",
    "\n",
    "#데이터 프레임에서 A컬럼값이 0.5보다 작고 B컬럼 값이 0.3보다 큰값들을 구해봅시다.\n",
    "print(df.query('A < 0.5 and B>0.3'))\n",
    "print(df[(df['A'] < 0.5) & (df['B'] > 0.3)])"
   ]
  },
  {
   "cell_type": "code",
   "execution_count": 2,
   "id": "f0c8f52e",
   "metadata": {},
   "outputs": [
    {
     "name": "stdout",
     "output_type": "stream",
     "text": [
      "   Num\n",
      "0    0\n",
      "1    1\n",
      "2    2\n",
      "3    3\n",
      "4    4 \n",
      "\n"
     ]
    }
   ],
   "source": [
    "import numpy as np\n",
    "import pandas as pd\n",
    "\n",
    "df = pd.DataFrame(np.arange(5), columns=[\"Num\"])\n",
    "print(df, \"\\n\")\n",
    "\n",
    "# 값을 받으면 제곱을 해서 돌려주는 함수\n",
    "def square(x):\n",
    "    return x**2\n",
    "    \n",
    "# apply로 컬럼에 함수 적용\n",
    "df['Square']=df['Num'].apply(square)\n",
    "\n",
    "# 람다 표현식으로도 적용하기\n",
    "df[\"Square\"] = df[\"Num\"].apply(lambda x: x ** 2)"
   ]
  },
  {
   "cell_type": "code",
   "execution_count": 3,
   "id": "ba7d1542",
   "metadata": {},
   "outputs": [
    {
     "name": "stdout",
     "output_type": "stream",
     "text": [
      "DataFrame:\n",
      "  key  data1  data2\n",
      "0   A      1      4\n",
      "1   B      2      4\n",
      "2   C      3      6\n",
      "3   A      1      0\n",
      "4   B      2      6\n",
      "5   C      3      1 \n",
      "\n",
      "     data1  data2\n",
      "key              \n",
      "A        2      4\n",
      "B        4     10\n",
      "C        6      7\n",
      "           data2\n",
      "key data1       \n",
      "A   1          4\n",
      "B   2         10\n",
      "C   3          7\n"
     ]
    }
   ],
   "source": [
    "import numpy as np\n",
    "import pandas as pd\n",
    "\n",
    "df = pd.DataFrame({\n",
    "    'key': ['A', 'B', 'C', 'A', 'B', 'C'],\n",
    "    'data1': [1, 2, 3, 1, 2, 3],\n",
    "    'data2': [4, 4, 6, 0, 6, 1]\n",
    "})\n",
    "print(\"DataFrame:\")\n",
    "print(df, \"\\n\")\n",
    "\n",
    "# groupby 함수를 이용해봅시다.\n",
    "# key를 기준으로 묶어 합계를 구해 출력해보세요.\n",
    "print(df.groupby('key').sum())\n",
    "\n",
    "# key와 data1을 기준으로 묶어 합계를 구해 출력해보세요.\n",
    "print(df.groupby(['key', 'data1']).sum())"
   ]
  },
  {
   "cell_type": "code",
   "execution_count": 4,
   "id": "462bb56d",
   "metadata": {},
   "outputs": [
    {
     "name": "stdout",
     "output_type": "stream",
     "text": [
      "DataFrame:\n",
      "  key  data1  data2\n",
      "0   A      0      4\n",
      "1   B      1      4\n",
      "2   C      2      6\n",
      "3   A      3      0\n",
      "4   B      4      6\n",
      "5   C      5      1 \n",
      "\n",
      "    data1            data2           \n",
      "      min median max   min median max\n",
      "key                                  \n",
      "A       0    1.5   3     0    2.0   4\n",
      "B       1    2.5   4     4    5.0   6\n",
      "C       2    3.5   5     1    3.5   6\n",
      "     data1  data2\n",
      "key              \n",
      "A        0      4\n",
      "B        1     10\n",
      "C        2      7\n"
     ]
    }
   ],
   "source": [
    "import numpy as np\n",
    "import pandas as pd\n",
    "\n",
    "df = pd.DataFrame({\n",
    "    'key': ['A', 'B', 'C', 'A', 'B', 'C'],\n",
    "    'data1': [0, 1, 2, 3, 4, 5],\n",
    "    'data2': [4, 4, 6, 0, 6, 1]\n",
    "})\n",
    "print(\"DataFrame:\")\n",
    "print(df, \"\\n\")\n",
    "\n",
    "# aggregate를 이용하여 요약 통계량을 산출해봅시다.\n",
    "# 데이터 프레임을 'key' 칼럼으로 묶고, data1과 data2 각각의 최솟값, 중앙값, 최댓값을 출력하세요.\n",
    "print(df.groupby('key').aggregate(['min',np.median, max]))\n",
    "\n",
    "# 데이터 프레임을 'key' 칼럼으로 묶고, data1의 최솟값, data2의 합계를 출력하세요.\n",
    "print(df.groupby('key').aggregate({'data1':'min', 'data2':np.sum}))"
   ]
  },
  {
   "cell_type": "code",
   "execution_count": 5,
   "id": "67cb824d",
   "metadata": {},
   "outputs": [
    {
     "name": "stdout",
     "output_type": "stream",
     "text": [
      "DataFrame:\n",
      "  key  data1  data2\n",
      "0   A      0      4\n",
      "1   B      1      4\n",
      "2   C      2      6\n",
      "3   A      3      0\n",
      "4   B      4      6\n",
      "5   C      5      1 \n",
      "\n",
      "filtering : \n",
      "  key  data1  data2\n",
      "1   B      1      4\n",
      "2   C      2      6\n",
      "4   B      4      6\n",
      "5   C      5      1\n",
      "applying : \n",
      "     data1  data2\n",
      "key              \n",
      "A        3      4\n",
      "B        3      2\n",
      "C        3      5\n"
     ]
    }
   ],
   "source": [
    "import numpy as np\n",
    "import pandas as pd\n",
    "\n",
    "df = pd.DataFrame({\n",
    "    'key': ['A', 'B', 'C', 'A', 'B', 'C'],\n",
    "    'data1': [0, 1, 2, 3, 4, 5],\n",
    "    'data2': [4, 4, 6, 0, 6, 1]\n",
    "})\n",
    "print(\"DataFrame:\")\n",
    "print(df, \"\\n\")\n",
    "\n",
    "# groupby()로 묶은 데이터에 filter를 적용해봅시다.\n",
    "# key별 data2의 평균이 3이 넘는 인덱스만 출력해봅시다.\n",
    "\n",
    "print(\"filtering : \")\n",
    "def filter_by_mean(x):\n",
    "    return x['data2'].mean() > 3\n",
    "print(df.groupby('key').filter(filter_by_mean))\n",
    "\n",
    "# groupby()로 묶은 데이터에 apply도 적용해봅시다.\n",
    "# 람다식을 이용해 최댓값에서 최솟값을 뺀 값을 적용해봅시다.\n",
    "\n",
    "print(\"applying : \")\n",
    "print(df.groupby('key').apply(lambda x:x.max()-x.min()))"
   ]
  },
  {
   "cell_type": "code",
   "execution_count": 6,
   "id": "029f3389",
   "metadata": {},
   "outputs": [
    {
     "name": "stdout",
     "output_type": "stream",
     "text": [
      "DataFrame1\n",
      "        data1     data2\n",
      "A 1  0.361357 -1.205104\n",
      "  2 -0.418437  0.069307\n",
      "B 1  1.097697 -0.399238\n",
      "  2 -0.965120  0.684276 \n",
      "\n",
      "DataFrame2\n",
      "          A                   B          \n",
      "          1         2         1         2\n",
      "0  0.907656 -0.485977  0.482741  1.384145\n",
      "1 -0.719731 -0.159575  0.495445 -1.057930\n",
      "2  0.325982  1.278920  0.179958  0.952235\n",
      "3  2.026299  1.422196  0.120990  0.308623 \n",
      "\n",
      "df1.loc['A', 1]\n",
      "data1    0.361357\n",
      "data2   -1.205104\n",
      "Name: (A, 1), dtype: float64 \n",
      "\n",
      "df2[\"A\"][\"1\"]\n",
      "0    0.907656\n",
      "1   -0.719731\n",
      "2    0.325982\n",
      "3    2.026299\n",
      "Name: 1, dtype: float64 \n",
      "\n"
     ]
    }
   ],
   "source": [
    "import numpy as np\n",
    "import pandas as pd\n",
    "\n",
    "df1 = pd.DataFrame(\n",
    "    np.random.randn(4, 2), \n",
    "    index=[['A', 'A', 'B', 'B'], [1, 2, 1, 2]],\n",
    "    columns=['data1', 'data2']\n",
    ")\n",
    "print(\"DataFrame1\")\n",
    "print(df1, \"\\n\")\n",
    "\n",
    "df2 = pd.DataFrame(\n",
    "    np.random.randn(4, 4),\n",
    "    columns=[[\"A\", \"A\", \"B\", \"B\"], [\"1\", \"2\", \"1\", \"2\"]]\n",
    ")\n",
    "print(\"DataFrame2\")\n",
    "print(df2, \"\\n\")\n",
    "\n",
    "# 명시적 인덱싱을 활용한 df1의 인덱스 출력\n",
    "print(\"df1.loc['A', 1]\")\n",
    "print(df1.loc['A', 1], \"\\n\") \n",
    "\n",
    "\n",
    "# df2의 [A][1] 칼럼 출력\n",
    "print('df2[\"A\"][\"1\"]')\n",
    "print(df2[\"A\"][\"1\"], \"\\n\")"
   ]
  }
 ],
 "metadata": {
  "kernelspec": {
   "display_name": "Python 3 (ipykernel)",
   "language": "python",
   "name": "python3"
  },
  "language_info": {
   "codemirror_mode": {
    "name": "ipython",
    "version": 3
   },
   "file_extension": ".py",
   "mimetype": "text/x-python",
   "name": "python",
   "nbconvert_exporter": "python",
   "pygments_lexer": "ipython3",
   "version": "3.9.7"
  }
 },
 "nbformat": 4,
 "nbformat_minor": 5
}

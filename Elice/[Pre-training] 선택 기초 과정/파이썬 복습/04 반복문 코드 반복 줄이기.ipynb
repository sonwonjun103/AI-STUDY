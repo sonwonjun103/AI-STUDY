{
 "cells": [
  {
   "cell_type": "markdown",
   "id": "f53da5c1",
   "metadata": {},
   "source": [
    "## 3, 6, 9 게임"
   ]
  },
  {
   "cell_type": "markdown",
   "id": "be32a4ce",
   "metadata": {},
   "source": [
    "1. 위 3, 6, 9게임의 규칙에 맞게 1부터 30까지 출력해 보세요.\n",
    "\n",
    "2. 한 줄당 숫자 혹은 짝! 하나씩 출력하면 됩니다."
   ]
  },
  {
   "cell_type": "code",
   "execution_count": 1,
   "id": "bad0de93",
   "metadata": {},
   "outputs": [
    {
     "name": "stdout",
     "output_type": "stream",
     "text": [
      "1\n",
      "2\n",
      "짝!\n",
      "4\n",
      "5\n",
      "짝!\n",
      "7\n",
      "8\n",
      "짝!\n",
      "10\n",
      "11\n",
      "12\n",
      "짝!\n",
      "14\n",
      "15\n",
      "짝!\n",
      "17\n",
      "18\n",
      "짝!\n",
      "20\n",
      "21\n",
      "22\n",
      "짝!\n",
      "24\n",
      "25\n",
      "짝!\n",
      "27\n",
      "28\n",
      "짝!\n",
      "짝!\n"
     ]
    }
   ],
   "source": [
    "# 반복문을 이용하여 3, 6, 9 게임을 만들어주세요!\n",
    "for i in range(1,31):\n",
    "    i=str(i)\n",
    "    if '3' in i or '6' in i or '9' in i:\n",
    "        print('짝!')\n",
    "    else:\n",
    "        print(i)"
   ]
  },
  {
   "cell_type": "markdown",
   "id": "77f6ad31",
   "metadata": {},
   "source": [
    "## 숫자 출력"
   ]
  },
  {
   "cell_type": "markdown",
   "id": "08a7c3fd",
   "metadata": {},
   "source": [
    "1. 0보다 큰 정수를 입력받으세요.\n",
    "\n",
    "2. 1부터 해당 숫자까지 출력 예시처럼 출력해 보세요."
   ]
  },
  {
   "cell_type": "code",
   "execution_count": 2,
   "id": "0469ab15",
   "metadata": {},
   "outputs": [
    {
     "name": "stdout",
     "output_type": "stream",
     "text": [
      "5\n",
      "1, 2, 3, 4, 5\n"
     ]
    }
   ],
   "source": [
    "# 1번을 해보세요.\n",
    "n=int(input())\n",
    "\n",
    "# 2번을 해보세요.\n",
    "for i in range(1,n+1):\n",
    "    if i==n:\n",
    "        print(i)\n",
    "    else:\n",
    "        print(i, end=\", \")"
   ]
  },
  {
   "cell_type": "markdown",
   "id": "49155c7d",
   "metadata": {},
   "source": [
    "## 노동요"
   ]
  },
  {
   "cell_type": "markdown",
   "id": "d57f6728",
   "metadata": {},
   "source": [
    "1. 한글로 된 임의의 길이의 문자열을 입력합니다.\n",
    "\n",
    "2. 마법의 규칙들이 적용된 문자열을 출력합니다. 베짱이도 일하게 만드는 노동요를 부르는 프로그램을 작성해 보세요."
   ]
  },
  {
   "cell_type": "code",
   "execution_count": 3,
   "id": "8655bb7b",
   "metadata": {},
   "outputs": [
    {
     "name": "stdout",
     "output_type": "stream",
     "text": [
      "나는 베짱이.\n",
      "링딩동 링딩동 링디기디기\n",
      "링딩동 링딩동 링딩동 딩딩딩\n"
     ]
    }
   ],
   "source": [
    "# 1번을 해보세요.\n",
    "s=input()\n",
    "\n",
    "# 2번을 해보세요.\n",
    "for i in range(len(s)):\n",
    "    if s[i]==\" \":\n",
    "        print('링디기디기')\n",
    "    elif s[i]==\".\":\n",
    "        print('딩딩딩')\n",
    "    else:\n",
    "        print('링딩동', end=\" \")"
   ]
  },
  {
   "cell_type": "markdown",
   "id": "c9c1e68c",
   "metadata": {},
   "source": [
    "## 약수 출력하기"
   ]
  },
  {
   "cell_type": "markdown",
   "id": "d5a9d7c2",
   "metadata": {},
   "source": [
    "1. 자연수 N(2 이상 100,000 이하)을 입력받습니다.\n",
    "\n",
    "2. 한 줄에 10개의 약수씩 한 칸씩 띄워서 출력을 합니다. 즉, 약수를 출력함과 동시에 공백을 같이 넣어주면 됩니다."
   ]
  },
  {
   "cell_type": "code",
   "execution_count": 5,
   "id": "ea6f1209",
   "metadata": {},
   "outputs": [
    {
     "name": "stdout",
     "output_type": "stream",
     "text": [
      "120\n",
      "1 2 3 4 5 6 8 10 12 15 \n",
      "20 24 30 40 60 120 "
     ]
    }
   ],
   "source": [
    "# 1번을 해보세요.\n",
    "n=int(input())\n",
    "\n",
    "count=0\n",
    "# 2번을 해보세요.\n",
    "for i in range(1,n+1):\n",
    "    if n%i==0:\n",
    "        count+=1\n",
    "        print(i, end=\" \")\n",
    "        if count%10==0:\n",
    "            print()\n",
    "        "
   ]
  },
  {
   "cell_type": "markdown",
   "id": "7debbcd7",
   "metadata": {},
   "source": [
    "## 피보나치 수열 출력하기"
   ]
  },
  {
   "cell_type": "markdown",
   "id": "087ae38d",
   "metadata": {},
   "source": [
    "1. 자연수 n을 입력받습니다.\n",
    "\n",
    "2. n보다 작은 수들의 피보나치 수열을 출력하세요. 피보나치 수열의 첫 번째 항은 0, 두 번째 항은 1입니다."
   ]
  },
  {
   "cell_type": "code",
   "execution_count": 7,
   "id": "8ab14f60",
   "metadata": {},
   "outputs": [
    {
     "name": "stdout",
     "output_type": "stream",
     "text": [
      "10\n",
      "[0, 1, 1, 2, 3, 5, 8]\n"
     ]
    }
   ],
   "source": [
    "# 1번을 해보세요.\n",
    "n=int(input())\n",
    "\n",
    "# 2번을 해보세요.\n",
    "fibo=[0,1]\n",
    "\n",
    "for i in range(2,n):\n",
    "    fibo.append(fibo[i-1]+fibo[i-2])\n",
    "    \n",
    "index=0\n",
    "for i in range(len(fibo)):\n",
    "    if fibo[i]<n:\n",
    "        index=i\n",
    "        \n",
    "print(fibo[:index+1])"
   ]
  },
  {
   "cell_type": "markdown",
   "id": "f758f0d7",
   "metadata": {},
   "source": [
    "## 촉촉한 초코칩"
   ]
  },
  {
   "cell_type": "markdown",
   "id": "e5eb9a86",
   "metadata": {},
   "source": [
    "1.임의의 길이의 문자열을 입력받으세요.\n",
    "\n",
    "2.직접 입력받은 문자열에 있는 촉촉한 초코칩의 횟수만 출력해 주세요."
   ]
  },
  {
   "cell_type": "code",
   "execution_count": 8,
   "id": "a90392b6",
   "metadata": {
    "scrolled": true
   },
   "outputs": [
    {
     "name": "stdout",
     "output_type": "stream",
     "text": [
      "안 촉촉한 초코칩 나라에 살던 안 촉촉한 초코칩이 촉촉한 초코칩 나라의 촉촉한 초코칩을 보고 촉촉한 초코칩이 되고 싶어서 촉촉한 초코칩 나라에 갔는데 촉촉한 초코칩 나라의 문지기가 \"넌 촉촉한 초코칩이 아니고 안 촉촉한 초코칩이니까 안 촉촉한 초코칩 나라에서 살아\"라고 해서 안 촉촉한 초코칩은 촉촉한 초코칩이 되는 것을 포기하고 안 촉촉한 초코칩 나라로 돌아갔다네\n",
      "13\n"
     ]
    }
   ],
   "source": [
    "# 1번을 해보세요.\n",
    "s=input()\n",
    "\n",
    "# 해당 문자열이 몇 번 나오는지 확인해 봅시다.\n",
    "chocochip = '촉촉한 초코칩'\n",
    "\n",
    "# 2번을 해보세요.\n",
    "count=0\n",
    "print(s.count(chocochip))\n"
   ]
  },
  {
   "cell_type": "markdown",
   "id": "d168b445",
   "metadata": {},
   "source": [
    "## 문자열은 빼달라구!"
   ]
  },
  {
   "cell_type": "markdown",
   "id": "403272d2",
   "metadata": {},
   "source": [
    "1. 문자열을 입력받으세요.\n",
    "\n",
    "2. 입력 받은 문자열에서 문자 또는 기호를 제외한 숫자만 추출해서 문자열 형태로 출력하는 코드를 작성하세요."
   ]
  },
  {
   "cell_type": "code",
   "execution_count": 9,
   "id": "f3907af2",
   "metadata": {},
   "outputs": [
    {
     "name": "stdout",
     "output_type": "stream",
     "text": [
      "12qwe34asf45\n",
      "123445"
     ]
    }
   ],
   "source": [
    "# 1번을 해보세요.\n",
    "s=input()\n",
    "\n",
    "# 2번을 해보세요.\n",
    "for i in range(len(s)):\n",
    "    if ord(s[i]) >= 48 and ord(s[i])<=57:\n",
    "        print(s[i], end=\"\")"
   ]
  },
  {
   "cell_type": "markdown",
   "id": "560fbdab",
   "metadata": {},
   "source": [
    "## 왜 두 번 써지지"
   ]
  },
  {
   "cell_type": "markdown",
   "id": "836a414e",
   "metadata": {},
   "source": [
    "1. 입력으로 주어지는 숫자 string_num에서 연속으로 2번 출력되는 수를 1번만 출력하도록 변경하세요. 예를 들면 “00”을 “0”으로 변경해야 합니다.\n",
    "\n",
    "2. 변경한 숫자의 2진수를 구해 출력하세요."
   ]
  },
  {
   "cell_type": "code",
   "execution_count": 1,
   "id": "b4b12771",
   "metadata": {},
   "outputs": [
    {
     "name": "stdout",
     "output_type": "stream",
     "text": [
      "2277\n",
      "11011"
     ]
    }
   ],
   "source": [
    "# 숫자를 입력받습니다.\n",
    "string_num = input()\n",
    "\n",
    "# 1번을 해보세요.\n",
    "sn = ''\n",
    "\n",
    "i = 0\n",
    "for x in string_num:\n",
    "    i += 1\n",
    "    if i % 2 == 0:\n",
    "        sn += x\n",
    "        \n",
    "sn=int(sn)\n",
    "# 2번을 해보세요.\n",
    "result=[]\n",
    "while sn!=0:\n",
    "    result.append(sn%2)\n",
    "    sn=sn//2\n",
    "result.reverse()\n",
    "for i in result:\n",
    "    print(i, end=\"\")"
   ]
  }
 ],
 "metadata": {
  "kernelspec": {
   "display_name": "Python 3 (ipykernel)",
   "language": "python",
   "name": "python3"
  },
  "language_info": {
   "codemirror_mode": {
    "name": "ipython",
    "version": 3
   },
   "file_extension": ".py",
   "mimetype": "text/x-python",
   "name": "python",
   "nbconvert_exporter": "python",
   "pygments_lexer": "ipython3",
   "version": "3.9.7"
  }
 },
 "nbformat": 4,
 "nbformat_minor": 5
}

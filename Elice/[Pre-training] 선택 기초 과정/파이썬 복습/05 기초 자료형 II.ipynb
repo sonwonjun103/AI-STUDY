{
 "cells": [
  {
   "cell_type": "markdown",
   "id": "33365e93",
   "metadata": {},
   "source": [
    "## 용돈 압수"
   ]
  },
  {
   "cell_type": "markdown",
   "id": "b4ce311c",
   "metadata": {},
   "source": [
    "1.money 문자열에서 “500원”을 기준으로 나누어 리스트 형태로 저장하세요.\n",
    "\n",
    "2.저장한 리스트를 출력하세요."
   ]
  },
  {
   "cell_type": "code",
   "execution_count": 1,
   "id": "6b251f28",
   "metadata": {},
   "outputs": [
    {
     "name": "stdout",
     "output_type": "stream",
     "text": [
      "['', ', 엘리스 토끼는 하루 용돈으로 ', '. 단돈 ', '을 받는다. 부모님이 주시는 ', '. 하지만 잘못한 것이 있으면 ', '을 받지 못한다.']\n"
     ]
    }
   ],
   "source": [
    "# money 문자열입니다.\n",
    "money = '500원, 엘리스 토끼는 하루 용돈으로 500원. 단돈 500원을 받는다. 부모님이 주시는 500원. 하지만 잘못한 것이 있으면 500원을 받지 못한다.'\n",
    "\n",
    "# 1번을 해보세요.\n",
    "a=money.split('500원')\n",
    "\n",
    "# 2번을 해보세요.\n",
    "print(a)"
   ]
  },
  {
   "cell_type": "markdown",
   "id": "3788a19a",
   "metadata": {},
   "source": [
    "## 펜 파인애플 애플 펜"
   ]
  },
  {
   "cell_type": "markdown",
   "id": "8729edb5",
   "metadata": {},
   "source": [
    "1. words 리스트에서 pop을 이용해 인덱스 4, 4, 5, 5, 5 순서로 원소를 제거하세요.\n",
    "\n",
    "2. join 함수를 이용해서 공백을 기준으로 리스트를 연결하여 lyrics 변수에 저장하세요.\n",
    "\n",
    "3. lyrics를 출력하세요.\n",
    "\n",
    "4. 문자 ‘p’의 개수를 count 함수를 이용해서 출력하세요."
   ]
  },
  {
   "cell_type": "code",
   "execution_count": 2,
   "id": "c3a9189a",
   "metadata": {},
   "outputs": [
    {
     "name": "stdout",
     "output_type": "stream",
     "text": [
      "i have a pen pineapple apple pen\n",
      "7\n"
     ]
    }
   ],
   "source": [
    "# 영어 단어가 들어있는 리스트입니다.\n",
    "words = ['i', 'have', 'a', 'pen', 'i', 'have', 'pineapple', 'i', 'have', 'an', 'apple', 'pen']\n",
    "\n",
    "# 1번을 해보세요.\n",
    "words.pop(4)\n",
    "words.pop(4)\n",
    "words.pop(5)\n",
    "words.pop(5)\n",
    "words.pop(5)\n",
    "\n",
    "# 2번을 해보세요.\n",
    "lyrics=\" \".join(words)\n",
    "\n",
    "# 3번을 해보세요.\n",
    "print(lyrics)\n",
    "\n",
    "# 4번을 해보세요.\n",
    "print(lyrics.count('p'))"
   ]
  },
  {
   "cell_type": "markdown",
   "id": "cc1d2315",
   "metadata": {},
   "source": [
    "## 드레스 코드는 레드입니다"
   ]
  },
  {
   "cell_type": "markdown",
   "id": "6586d31c",
   "metadata": {},
   "source": [
    "1. end가 입력될 때까지 입력을 받아 dress_code 리스트에 저장한 뒤 출력하세요.\n",
    "\n",
    "2. dress_code 리스트에서 red를 모두 제거하고 출력하세요."
   ]
  },
  {
   "cell_type": "code",
   "execution_count": 4,
   "id": "20b40396",
   "metadata": {},
   "outputs": [
    {
     "name": "stdout",
     "output_type": "stream",
     "text": [
      "red\n",
      "blue\n",
      "red\n",
      "blue\n",
      "green\n",
      "green\n",
      "end\n",
      "['red', 'blue', 'red', 'blue', 'green', 'green']\n",
      "['blue', 'blue', 'green', 'green']\n"
     ]
    }
   ],
   "source": [
    "# 친구들의 드레스 코드를 담을 리스트입니다.\n",
    "dress_code = list()\n",
    "\n",
    "# 1번을 하세요.\n",
    "while 1:\n",
    "    n=input()\n",
    "    \n",
    "    if n=='end':\n",
    "        break\n",
    "    dress_code.append(n)\n",
    "\n",
    "# 입력을 잘 받았는지 확인하는 코드입니다.\n",
    "print(dress_code)\n",
    "\n",
    "# 2번을 하세요.\n",
    "while 'red' in dress_code:    \n",
    "\tdress_code.remove('red') # \n",
    "\n",
    "# red 옷을 입은 사람이 제외되었는지 확인하는 코드입니다.\n",
    "print(dress_code)"
   ]
  },
  {
   "cell_type": "markdown",
   "id": "6631cfa2",
   "metadata": {},
   "source": [
    "## 훈민정음"
   ]
  },
  {
   "cell_type": "markdown",
   "id": "950c386f",
   "metadata": {},
   "source": [
    "1. hangul 튜플의 0번째 인덱스, 47번째 인덱스, 23번째 인덱스 순서대로 이어 붙여 단어를 만들고 출력해 보세요."
   ]
  },
  {
   "cell_type": "code",
   "execution_count": 5,
   "id": "acb537d7",
   "metadata": {},
   "outputs": [
    {
     "name": "stdout",
     "output_type": "stream",
     "text": [
      "나들이\n"
     ]
    }
   ],
   "source": [
    "hangul = ('나', '랏', '말', '싸', '미', '듕', '귁', '에', '달', '아', '문', '자', '와', '로', '서', '르', '사', '맛', '띠', '아', '니', '할',\n",
    "          '쌔', '이', '런', '젼', '차', '로', '어', '린', '백', '셩', '이', '니', '르', '고', '져', '홀', '빼', '이', '셔', '도', '마', '참',\n",
    "          '내', '제', '뜨', '들', '시', '러', '펴', '디', '못', '할', '노', '미', '하', '니', '라')\n",
    "          \n",
    "# 1번을 해보세요.\n",
    "x=''\n",
    "x+=hangul[0]\n",
    "x+=hangul[47]\n",
    "x+=hangul[23]\n",
    "\n",
    "print(x)"
   ]
  }
 ],
 "metadata": {
  "kernelspec": {
   "display_name": "Python 3 (ipykernel)",
   "language": "python",
   "name": "python3"
  },
  "language_info": {
   "codemirror_mode": {
    "name": "ipython",
    "version": 3
   },
   "file_extension": ".py",
   "mimetype": "text/x-python",
   "name": "python",
   "nbconvert_exporter": "python",
   "pygments_lexer": "ipython3",
   "version": "3.9.7"
  }
 },
 "nbformat": 4,
 "nbformat_minor": 5
}

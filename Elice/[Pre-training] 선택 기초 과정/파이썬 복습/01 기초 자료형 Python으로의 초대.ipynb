{
 "cells": [
  {
   "cell_type": "code",
   "execution_count": 1,
   "id": "e9294883",
   "metadata": {},
   "outputs": [
    {
     "name": "stdout",
     "output_type": "stream",
     "text": [
      "Welcome to Elice~\n"
     ]
    }
   ],
   "source": [
    "print('Welcome to Elice~')"
   ]
  },
  {
   "cell_type": "code",
   "execution_count": 2,
   "id": "ef2d1a10",
   "metadata": {},
   "outputs": [
    {
     "name": "stdout",
     "output_type": "stream",
     "text": [
      "(\\_/)\n",
      "(. . )\n",
      "|\\ /|\n"
     ]
    }
   ],
   "source": [
    "print(\"(\\_/)\")\n",
    "print(\"(. . )\")\n",
    "print(\"|\\ /|\")"
   ]
  },
  {
   "cell_type": "markdown",
   "id": "6474fedb",
   "metadata": {},
   "source": [
    "##### 음식 가격 계산하기"
   ]
  },
  {
   "cell_type": "markdown",
   "id": "3fc3a4a0",
   "metadata": {},
   "source": [
    "음식 가격 계산하기\n",
    "교장 선생님인 엘리스는 150명의 학생을 이끌고 수학여행을 가게 되었습니다.\n",
    "\n",
    "목적지로 가는 길에 휴게소에서 밥을 먹으려고 합니다.\n",
    "\n",
    "예산 조정을 위해 학생들이 메뉴를 미리 고르도록 하였습니다.\n",
    "\n",
    "그 결과 한식(korean) 55명, 중식(chinese) 43명, 양식(western) 52명으로 나왔습니다.\n",
    "\n",
    "한식은 7,000원, 중식은 6,000원, 양식은 8,500원일 때 전체 예산은 얼마가 필요할지 계산하세요.\n",
    "\n",
    "단, 현재 휴게소에서는 한식 10% 할인 혜택을 주기 때문에 이를 고려해야 합니다."
   ]
  },
  {
   "cell_type": "code",
   "execution_count": 3,
   "id": "e6d873d5",
   "metadata": {},
   "outputs": [
    {
     "name": "stdout",
     "output_type": "stream",
     "text": [
      "한식 : 7000\n",
      "중식 : 6000\n",
      "양식 : 8500\n",
      "할인된 한식 : 6300\n",
      "전체 예산 : 1046500\n"
     ]
    }
   ],
   "source": [
    "# 한식 가격\n",
    "korean = 7000\n",
    "\n",
    "# 중식 가격\n",
    "chinese = 6000\n",
    "\n",
    "# 양식 가격\n",
    "western = 8500\n",
    "\n",
    "# 할인된 한식의 가격\n",
    "discount_korean = int(korean * 0.9)\n",
    "\n",
    "# 전체 예산을 계산하여 저장해 보세요.\n",
    "total_price = 55*discount_korean+43*chinese+52*western\n",
    "\n",
    "# 값을 확인해 보세요!\n",
    "print(\"한식 : \" + str(korean))\n",
    "print(\"중식 : \" + str(chinese))\n",
    "print(\"양식 : \" + str(western))\n",
    "print(\"할인된 한식 : \" + str(discount_korean))\n",
    "print(\"전체 예산 : \" + str(total_price))"
   ]
  },
  {
   "cell_type": "markdown",
   "id": "6664b7e6",
   "metadata": {},
   "source": [
    "##### 몫과 나머지 구하기\n",
    "몫 연산자와 나머지 연산자를 이용하여 숫자의 몫과 나머지를 구해봅시다."
   ]
  },
  {
   "cell_type": "code",
   "execution_count": 4,
   "id": "da5908de",
   "metadata": {},
   "outputs": [
    {
     "name": "stdout",
     "output_type": "stream",
     "text": [
      "13558 635\n"
     ]
    }
   ],
   "source": [
    "# num1과 num2입니다. 수정하지 마세요!\n",
    "num1 = 23781367\n",
    "num2 = 1754\n",
    "\n",
    "# 1번을 해보세요.\n",
    "print(num1//num2, num1% num2)"
   ]
  },
  {
   "cell_type": "code",
   "execution_count": null,
   "id": "8aa4ff84",
   "metadata": {},
   "outputs": [],
   "source": []
  }
 ],
 "metadata": {
  "kernelspec": {
   "display_name": "Python 3 (ipykernel)",
   "language": "python",
   "name": "python3"
  },
  "language_info": {
   "codemirror_mode": {
    "name": "ipython",
    "version": 3
   },
   "file_extension": ".py",
   "mimetype": "text/x-python",
   "name": "python",
   "nbconvert_exporter": "python",
   "pygments_lexer": "ipython3",
   "version": "3.9.7"
  }
 },
 "nbformat": 4,
 "nbformat_minor": 5
}

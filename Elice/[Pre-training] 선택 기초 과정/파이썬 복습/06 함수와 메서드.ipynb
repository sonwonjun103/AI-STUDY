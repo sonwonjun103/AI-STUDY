{
 "cells": [
  {
   "cell_type": "markdown",
   "id": "c2fb19f0",
   "metadata": {},
   "source": [
    "## 청개구리"
   ]
  },
  {
   "cell_type": "markdown",
   "id": "54892f7a",
   "metadata": {},
   "source": [
    "1. True가 주어지면 False를, False가 주어지면 True를 반환하는 함수 tree_frog를 완성하세요."
   ]
  },
  {
   "cell_type": "code",
   "execution_count": 1,
   "id": "98895b55",
   "metadata": {},
   "outputs": [
    {
     "name": "stdout",
     "output_type": "stream",
     "text": [
      "False\n"
     ]
    }
   ],
   "source": [
    "# 1번을 해보세요.\n",
    "def tree_frog(boolean):\n",
    "    return not boolean\n",
    "\n",
    "# 값이 잘 나오는지 테스트 해보세요!\n",
    "print(tree_frog(1==1))"
   ]
  },
  {
   "cell_type": "markdown",
   "id": "47a8d457",
   "metadata": {},
   "source": [
    "## 출석부"
   ]
  },
  {
   "cell_type": "markdown",
   "id": "84b9b035",
   "metadata": {},
   "source": [
    "1. 출석부 작성을 위한 checkRecord 함수를 완성하세요.\n",
    "\n",
    "2. 출석부에 ‘A’가 2번이상 나올 경우 False를 반환합니다.\n",
    "\n",
    "3. 출석부에 ‘L’이 세 번 이상 연속 나올 경우 False를 반환합니다.\n",
    "\n",
    "4. 교칙에 위배되지 않는 선에서 결석과 지각을 한 학생에게는 True를 반환합니다."
   ]
  },
  {
   "cell_type": "code",
   "execution_count": 2,
   "id": "480e7e76",
   "metadata": {},
   "outputs": [
    {
     "name": "stdout",
     "output_type": "stream",
     "text": [
      "False\n",
      "False\n",
      "True\n",
      "False\n"
     ]
    }
   ],
   "source": [
    "# 출석부를 확인하는 함수를 완성하세요.\n",
    "def check_record(s):\n",
    "    if s.count('A') >= 2:\n",
    "        return False\n",
    "    \n",
    "    for i in range(len(s)):\n",
    "        if s[i]=='L':\n",
    "            if s[i+1]=='L' and s[i+2]=='L':\n",
    "                return False\n",
    "    return True\n",
    "    \n",
    "# 아래는 학생들의 출석부입니다. 결과가 잘 나오는지 직접 테스트 해보세요!\n",
    "students =['AAPPPPPPPP', 'PPPLLLPPPP', 'APPPPPLLPP', 'PPPLLLAAPP']\n",
    "\n",
    "for s in students:\n",
    "    print(check_record(s))"
   ]
  },
  {
   "cell_type": "markdown",
   "id": "96473de7",
   "metadata": {},
   "source": [
    "## 가장 큰 차이 구하기"
   ]
  },
  {
   "cell_type": "markdown",
   "id": "5958ce7b",
   "metadata": {},
   "source": [
    "1. 입력으로 주어지는 크기가 5인 리스트를 저장하세요.\n",
    "\n",
    "2. 리스트 내 두 원소의 가장 큰 차이를 출력하세요."
   ]
  },
  {
   "cell_type": "code",
   "execution_count": 3,
   "id": "32793008",
   "metadata": {},
   "outputs": [
    {
     "name": "stdout",
     "output_type": "stream",
     "text": [
      "4\n",
      "9\n",
      "38\n",
      "75\n",
      "17\n",
      "71\n"
     ]
    }
   ],
   "source": [
    "# 1번을 해보세요.\n",
    "a=[]\n",
    "for i in range(5):\n",
    "    a.append(int(input()))\n",
    "\n",
    "# 2번을 해보세요.\n",
    "print(max(a)-min(a))"
   ]
  },
  {
   "cell_type": "markdown",
   "id": "735c4c24",
   "metadata": {},
   "source": [
    "## 숫자 배틀"
   ]
  },
  {
   "cell_type": "markdown",
   "id": "29f9ea13",
   "metadata": {},
   "source": [
    "1. 함수의 인자는 두 명이 낸 숫자들이 저장된 리스트입니다.\n",
    "\n",
    "2. player1이 이겼을 경우, “player1 승리!” 를 반환합니다.\n",
    "\n",
    "3. player2가 이겼을 경우, “player2 승리!” 를 반환합니다.\n",
    "\n",
    "4. 서로 비겼을 경우, “서로 비겼습니다.” 를 반환합니다.\n",
    "\n",
    "5. 둘 중 한 명이 낸 숫자에서 중복된 수나 1~6이 아닌 수가 있을 경우, “동작그만 밑장빼기냐?” 를 반환합니다."
   ]
  },
  {
   "cell_type": "code",
   "execution_count": 4,
   "id": "2ccaf155",
   "metadata": {},
   "outputs": [
    {
     "name": "stdout",
     "output_type": "stream",
     "text": [
      "서로 비겼습니다.\n"
     ]
    }
   ],
   "source": [
    "def num_fight(player1, player2):\n",
    "    if len(list(set(player1))) !=6 or len(list(set(player2)))!=6:\n",
    "        return '동작그만 밑장빼기냐?'\n",
    "        \n",
    "    for i in range(len(player1)):\n",
    "        if player1[i] < 1 or player1[i] > 6 or player2[i] < 1 or player2[i] > 6:\n",
    "            return '동작그만 밑장빼기냐?'\n",
    "        \n",
    "    a1=0\n",
    "    a2=0\n",
    "    for i in range(len(player1)):\n",
    "        if player1[i] > player2[i]:\n",
    "            a1+=1\n",
    "        elif player1[i] < player2[i]:\n",
    "            a2+=1\n",
    "        \n",
    "    if a1>a2:\n",
    "        return 'player1 승리!'\n",
    "    elif a1<a2:\n",
    "        return 'player2 승리!'\n",
    "    else:\n",
    "        return '서로 비겼습니다.'\n",
    "\n",
    "print(num_fight([1,3,2,4,5,6], [2,3,1,4,6,5]))"
   ]
  },
  {
   "cell_type": "markdown",
   "id": "d555770f",
   "metadata": {},
   "source": [
    "## 피라미드"
   ]
  },
  {
   "cell_type": "markdown",
   "id": "74223f96",
   "metadata": {},
   "source": [
    "1. 총 깊이는 N(100이하)이고 맨 윗 줄은 별 한 개, 밑줄 부터는 2개씩 늘어나게 작성하세요. 이때, 맨 윗 별은 맨 밑 줄 별의 가운데에 있어야 합니다."
   ]
  },
  {
   "cell_type": "code",
   "execution_count": 5,
   "id": "5161d0cb",
   "metadata": {},
   "outputs": [
    {
     "name": "stdout",
     "output_type": "stream",
     "text": [
      "5\n",
      "    *\n",
      "   ***\n",
      "  *****\n",
      " *******\n",
      "*********\n"
     ]
    }
   ],
   "source": [
    "def pyramid(N):\n",
    "    ''' 층을 입력하면 해당 층을 가진 피라미드를 출력하는 함수\n",
    "        pyramid를 작성해주세요.'''\n",
    "    for i in range(N):\n",
    "        for j in range(N-i-1):\n",
    "            print(\" \",end=\"\")\n",
    "        for z in range(N-i,i+N+1):\n",
    "            print(\"*\", end=\"\")\n",
    "        print()\n",
    "    \n",
    "\n",
    "# 정수를 입력받고 피라미드를 출력하는 부분입니다. 수정하지 마세요!\n",
    "var = int(input())\n",
    "pyramid(var)"
   ]
  },
  {
   "cell_type": "markdown",
   "id": "f46791a0",
   "metadata": {},
   "source": [
    "## 모스부호"
   ]
  },
  {
   "cell_type": "markdown",
   "id": "8d777fff",
   "metadata": {},
   "source": [
    "1. 알파벳 26자에 대응되는 모스부호 morse_code가 주어졌습니다.\n",
    "\n",
    "2. 모스부호에서는 각 알파벳에 대응되는 부호가 중복되기도 합니다. 중복된 모스부호는 하나만 출력하세요.\n",
    "\n",
    "3. 알파벳 리스트인 word를 모스부호로 출력하세요.\n",
    "\n",
    "4. 변환된 모스부호의 길이를 changed_words에 저장하고 반환합니다."
   ]
  },
  {
   "cell_type": "code",
   "execution_count": 6,
   "id": "43826cfa",
   "metadata": {},
   "outputs": [
    {
     "name": "stdout",
     "output_type": "stream",
     "text": [
      "2\n"
     ]
    }
   ],
   "source": [
    "def uniqueMorseRepresentation(words):\n",
    "    alpha_dict = {}\n",
    "    morse_code = [\".-\",\"-...\",\"-.-.\",\"-..\",\".\",\"..-.\",\"--.\",\"....\",\"..\",\".---\",\"-.-\",\".-..\",\"--\",\"-.\",\"---\",\".--.\",\"--.-\",\".-.\",\"...\",\"-\",\"..-\",\"...-\",\".--\",\"-..-\",\"-.--\",\"--..\"]\n",
    "    # 알파벳을 key로 가지고 모스부호를 value로 가지는 딕셔너리를 생성하세요.\n",
    "    result=[]\n",
    "    for word in words:\n",
    "        s=''\n",
    "        for i in word:\n",
    "            s+=morse_code[ord(i)-97]\n",
    "        result.append(s)\n",
    " \n",
    "    # 중복을 제거하기 위해 set을 이용합니다.\n",
    "    changed_words = set(result)\n",
    "    \n",
    "    \n",
    "    # 알파벳을 모스부호로 변환한 후 set의 길이를 반환합니다.\n",
    "    return len(list(changed_words))\n",
    "\n",
    "# 아래의 변수 및 코드는 수정하지 마세요.\n",
    "word = [\"gin\",\"zen\",\"gin\",\"msg\"]\n",
    "print(uniqueMorseRepresentation(word))"
   ]
  }
 ],
 "metadata": {
  "kernelspec": {
   "display_name": "Python 3 (ipykernel)",
   "language": "python",
   "name": "python3"
  },
  "language_info": {
   "codemirror_mode": {
    "name": "ipython",
    "version": 3
   },
   "file_extension": ".py",
   "mimetype": "text/x-python",
   "name": "python",
   "nbconvert_exporter": "python",
   "pygments_lexer": "ipython3",
   "version": "3.9.7"
  }
 },
 "nbformat": 4,
 "nbformat_minor": 5
}

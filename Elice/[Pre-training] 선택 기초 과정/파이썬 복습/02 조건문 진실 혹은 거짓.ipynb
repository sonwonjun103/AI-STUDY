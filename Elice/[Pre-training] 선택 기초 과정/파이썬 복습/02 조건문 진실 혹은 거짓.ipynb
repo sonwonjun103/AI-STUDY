{
 "cells": [
  {
   "cell_type": "markdown",
   "id": "66343d55",
   "metadata": {},
   "source": [
    "## 한번에 여러 입력받기\n",
    "1.공백을 기준으로 세 개의 입력이 주어질 때, 세 개의 숫자를 a, b, c에 저장하세요.\n",
    "\n",
    "2.a, b, c를 한 줄에 하나씩 출력해 보세요."
   ]
  },
  {
   "cell_type": "code",
   "execution_count": 3,
   "id": "a08ff821",
   "metadata": {},
   "outputs": [
    {
     "name": "stdout",
     "output_type": "stream",
     "text": [
      "100 200 300\n",
      "100\n",
      "200\n",
      "300\n"
     ]
    }
   ],
   "source": [
    "#1번을 해보세요.\n",
    "a, b, c = map(int, input().split())\n",
    "\n",
    "# 2번을 해보세요.\n",
    "print(a)\n",
    "print(b)\n",
    "print(c)"
   ]
  },
  {
   "cell_type": "markdown",
   "id": "c1989c18",
   "metadata": {},
   "source": [
    "## 지시사항\n",
    "1.비가 올 확률을 입력받습니다.\n",
    "\n",
    "2.비가 올 확률이 50% 이상이면 우산을 챙긴다., 그렇지 않으면 그냥 간다.를 출력하세요."
   ]
  },
  {
   "cell_type": "code",
   "execution_count": 4,
   "id": "56afa3ba",
   "metadata": {},
   "outputs": [
    {
     "name": "stdout",
     "output_type": "stream",
     "text": [
      "50\n",
      "우산을 챙긴다.\n"
     ]
    }
   ],
   "source": [
    "# 1번을 해보세요.\n",
    "a=int(input())\n",
    "\n",
    "# 2번을 해보세요.\n",
    "if a>=50:\n",
    "    print('우산을 챙긴다.')\n",
    "else:\n",
    "    print('그냥 간다.')"
   ]
  },
  {
   "cell_type": "markdown",
   "id": "4eebf100",
   "metadata": {},
   "source": [
    "## 집에 가는 길\n",
    "일을 끝낸 엘리스 토끼는 집으로 돌아가기 위해 대중교통을 이용하려고 합니다.\n",
    "\n",
    "엘리스 토끼는 가진 돈에 따라 다른 교통수단을 이용할 예정입니다.\n",
    "\n",
    "돈이 1,000원 이상이면 택시, 500원 이상이면 버스, 300원 이상이면 지하철을 이용할 예정이고 돈이 300원보다 없는 경우 도보를 이용해야 합니다.\n",
    "\n",
    "엘리스 토끼가 가진 돈에 따라서 이용할 수 있는 가장 비싼 교통수단을 출력해 보세요."
   ]
  },
  {
   "cell_type": "code",
   "execution_count": 5,
   "id": "13e58222",
   "metadata": {},
   "outputs": [
    {
     "name": "stdout",
     "output_type": "stream",
     "text": [
      "400\n",
      "지하철\n"
     ]
    }
   ],
   "source": [
    "# 터미널에 엘리스 토끼가 가진 금액을 자유롭게 입력해 보세요.\n",
    "money = int(input())\n",
    "\n",
    "# 조건문을 이용해 문제를 해결해 봅시다!\n",
    "if money>=1000:\n",
    "    print(\"택시\")\n",
    "elif money>=500:\n",
    "    print('버스')\n",
    "elif money>=300:\n",
    "    print('지하철')\n",
    "else:\n",
    "    print('도보')"
   ]
  },
  {
   "cell_type": "markdown",
   "id": "da325ffa",
   "metadata": {},
   "source": [
    "## 비교 연산 검사기\n",
    "입력이 숫자, 비교 연산자, 숫자 순서로 공백을 기준으로 주어집니다.\n",
    "\n",
    "해당 비교 연산이 참이면 True, 거짓이면 False를 출력해 보세요."
   ]
  },
  {
   "cell_type": "code",
   "execution_count": 6,
   "id": "2644bdbb",
   "metadata": {},
   "outputs": [
    {
     "name": "stdout",
     "output_type": "stream",
     "text": [
      "100 < 300\n",
      "True\n"
     ]
    }
   ],
   "source": [
    "# 1번을 해보세요.\n",
    "a=input()\n",
    "num1=int(a.split(' ')[0])\n",
    "op=a.split(' ')[1]\n",
    "num2=int(a.split(' ')[2])\n",
    "\n",
    "# 2번을 해보세요.\n",
    "def check(num1, num2):\n",
    "    if num1<num2:\n",
    "        return '<'\n",
    "    elif num1>num2:\n",
    "        return '>'\n",
    "    elif num1==num2:\n",
    "        return '=='\n",
    "\n",
    "if op==check(num1, num2):\n",
    "    print('True')\n",
    "else:\n",
    "    print('False')"
   ]
  },
  {
   "cell_type": "markdown",
   "id": "dfcecefd",
   "metadata": {},
   "source": [
    "## 조건에 맞는 암호\n",
    "엘리스는 다음과 같은 조건을 충족하는 암호를 만들려고 합니다.\n",
    "\n",
    "아래의 1, 2, 3, 4의 조건을 동시에 충족하는 경우 또는 5, 6, 7의 조건을 동시에 충족하는 경우 True를, 아니라면 False를 출력합니다.\n",
    "\n",
    "1.a는 b보다 작거나 같다.\n",
    "2.a는 d와 같다.\n",
    "3.b는 c보다 크다.\n",
    "4.c는 6보다 작다.\n",
    "5.a는 b와 같다.\n",
    "6.a는 c와 같다.\n",
    "7.a는 d와 같다."
   ]
  },
  {
   "cell_type": "markdown",
   "id": "88ead581",
   "metadata": {},
   "source": [
    "위의 1, 2, 3, 4의 조건을 동시에 충족하거나 5, 6, 7의 조건을 동시에 충족하는 경우 True를 아니라면 False를 출력합니다."
   ]
  },
  {
   "cell_type": "code",
   "execution_count": 1,
   "id": "dd83968d",
   "metadata": {},
   "outputs": [
    {
     "name": "stdout",
     "output_type": "stream",
     "text": [
      "2 2 2 2\n",
      "True\n"
     ]
    }
   ],
   "source": [
    "# 1번을 해보세요.\n",
    "a,b,c,d=map(int, input().split())\n",
    "\n",
    "# 2번을 해보세요.\n",
    "def check(a,b,c,d):\n",
    "    if a<=b and a==d and b>c and c<6:\n",
    "        return True\n",
    "    if a==b and a==c and a==d:\n",
    "        return True\n",
    "    return False\n",
    "    \n",
    "if check(a,b,c,d):\n",
    "    print('True')\n",
    "else:\n",
    "    print('False')"
   ]
  },
  {
   "cell_type": "markdown",
   "id": "17468b2f",
   "metadata": {},
   "source": [
    "## 타격왕이 될 거야\n",
    "야구에서 타수는 선수가 공을 치기 위해 타석에 선 횟수이고 안타는 공을 잘 쳐서 출루한 횟수입니다.\n",
    "\n",
    "타율은 안타를 타수로 나눈 비율로 만약 8타수 5안타라면 5/8 = 0.625로 야구에서는 6할 2푼 5리라고 읽습니다.\n",
    "\n",
    "야구선수 엘리스 토끼는 타율이 가장 높은 선수에게 주어지는 상인 타격왕이 되고 싶어 합니다.\n",
    "\n",
    "엘리스 토끼의 현재 타율은 16타수 6안타로 3할 7푼 5리입니다.\n",
    "\n",
    "이후의 타수와 안타가 입력으로 주어질 때 엘리스 토끼의 타율을 할푼리로 출력해 보세요.\n",
    "\n",
    "단, 0.101처럼 중간에 0이 들어가 있는 경우 0은 생략하여 1할 1리라고 출력하며 타율이 0.3678인 경우에는 소수점 넷째 자리 이후는 버림을 하여 3할 6푼 7리로 출력합니다.\n",
    "\n",
    "입력 예시"
   ]
  },
  {
   "cell_type": "markdown",
   "id": "b748ebb8",
   "metadata": {},
   "source": [
    "1. 0 이상의 정수인 타수와 안타를 입력받으세요.\n",
    "\n",
    "2. 16타수 6안타인 상태에서 입력받은 타수와 안타를 더한 타율을 구하세요.\n",
    "\n",
    "3.구한 타율을 할푼리로 출력하세요. 할푼리 아래의 소수점은 모두 버림하며 값이 0인 경우 생략합니다."
   ]
  },
  {
   "cell_type": "code",
   "execution_count": 2,
   "id": "c5d0e1b0",
   "metadata": {},
   "outputs": [
    {
     "name": "stdout",
     "output_type": "stream",
     "text": [
      "3\n",
      "2\n",
      "4할\n",
      "2푼\n",
      "1리\n"
     ]
    }
   ],
   "source": [
    "# 1번을 해보세요.\n",
    "t=int(input())\n",
    "a=int(input())\n",
    "\n",
    "# 2번을 해보세요.\n",
    "original=6/16\n",
    "\n",
    "answer=(6+a)/(16+t)\n",
    "\n",
    "# 3번을 해보세요.\n",
    "answer=str(answer).split('.')[1]\n",
    "answer=answer[:3]\n",
    "\n",
    "temp=['할','푼','리']\n",
    "for i in range(len(answer)): \n",
    "    if answer[i]=='0':\n",
    "        continue\n",
    "    print(answer[i],end=\"\")\n",
    "    print(temp[i])"
   ]
  },
  {
   "cell_type": "markdown",
   "id": "10ff2002",
   "metadata": {},
   "source": [
    "## 뒤죽박죽 덧셈은 다음과 같습니다 :\n",
    "\n",
    "1.N이 5의 배수이면 연산자1만 N번만큼 출력합니다.\n",
    "\n",
    "2.N이 3의 배수이면 연산자2만 N번만큼 출력합니다.\n",
    "\n",
    "3.만약 N이 3의 배수이면서 5의 배수이면 아무것도 출력하지 않습니다.\n",
    "\n",
    "4.이외의 경우에는 두 연산자를 각각 N회만큼 출력해줍니다.\n",
    "\n",
    "5.입력을 받는 부분에서 o1이 연산자1, o2가 연산자2, num이 연산자가 아닌 숫자 N입니다."
   ]
  },
  {
   "cell_type": "code",
   "execution_count": 3,
   "id": "3c7243f6",
   "metadata": {},
   "outputs": [
    {
     "name": "stdout",
     "output_type": "stream",
     "text": [
      "*4/\n",
      "****////"
     ]
    }
   ],
   "source": [
    "# 입력을 받는 부분입니다. 수정하지 마세요!\n",
    "s = input()\n",
    "\n",
    "o1 = s[0] # 연산자 1\n",
    "o2 = s[-1] # 연산자 2\n",
    "\n",
    "num = int(s[1:-1]) # 연산자가 아닌 숫자 부분\n",
    "\n",
    "# 조건에 맞추어 코딩해주시면 됩니다.\n",
    "if num%5==0 and num%3==0:\n",
    "    print(\"\")\n",
    "elif num%3==0:\n",
    "    for i in range(num):\n",
    "        print(o2, end=\"\")\n",
    "elif num%5==0:\n",
    "    for i in range(num):\n",
    "        print(o1, end=\"\")\n",
    "else:\n",
    "    for i in range(num):\n",
    "        print(o1, end=\"\")\n",
    "    for i in range(num):\n",
    "        print(o2, end=\"\")"
   ]
  }
 ],
 "metadata": {
  "kernelspec": {
   "display_name": "Python 3 (ipykernel)",
   "language": "python",
   "name": "python3"
  },
  "language_info": {
   "codemirror_mode": {
    "name": "ipython",
    "version": 3
   },
   "file_extension": ".py",
   "mimetype": "text/x-python",
   "name": "python",
   "nbconvert_exporter": "python",
   "pygments_lexer": "ipython3",
   "version": "3.9.7"
  }
 },
 "nbformat": 4,
 "nbformat_minor": 5
}

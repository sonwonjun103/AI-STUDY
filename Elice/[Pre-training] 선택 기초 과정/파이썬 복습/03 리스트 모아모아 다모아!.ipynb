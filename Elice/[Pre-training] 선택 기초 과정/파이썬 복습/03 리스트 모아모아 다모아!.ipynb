{
 "cells": [
  {
   "cell_type": "markdown",
   "id": "8704df5d",
   "metadata": {},
   "source": [
    "## 과일 장수\n",
    "\n",
    "1. 랜덤한 입력으로 만들어지는 과일이 담긴 리스트 fruits에서 과일이 아닌 콩과 무를 제거해 주세요."
   ]
  },
  {
   "cell_type": "code",
   "execution_count": 2,
   "id": "ccc9589a",
   "metadata": {},
   "outputs": [
    {
     "name": "stdout",
     "output_type": "stream",
     "text": [
      "사과 오렌지 딸기 콩 무\n",
      "['사과', '오렌지', '딸기']\n"
     ]
    }
   ],
   "source": [
    "# 과일들을 입력받는 코드입니다. 수정하지 마세요!\n",
    "fruits = list(input().split())\n",
    "\n",
    "# 1번을 해보세요.\n",
    "fruits.remove('콩')\n",
    "fruits.remove('무')\n",
    "\n",
    "\n",
    "# 과일이 아닌 것을 잘 제거했는지 확인해봅시다.\n",
    "print(fruits)"
   ]
  },
  {
   "cell_type": "markdown",
   "id": "5413d241",
   "metadata": {},
   "source": [
    "## 음식 궁합\n",
    "음식마다 영양분의 종류와 함량이 다릅니다.\n",
    "\n",
    "따라서 음식들의 궁합에 따라 각각의 음식을 따로 먹는 것보다 더 큰 시너지를 낳을 수 있습니다.\n",
    "\n",
    "좋은 음식 궁합\n",
    "\n",
    "1.치즈와 달걀\n",
    "2.고구마와 김치\n",
    "3.감자와 토마토"
   ]
  },
  {
   "cell_type": "markdown",
   "id": "3c027635",
   "metadata": {},
   "source": [
    "1. 여러 음식들을 공백을 기준으로 입력받으세요.\n",
    "\n",
    "2. 입력된 음식 리스트에 궁합이 좋은 두 음식이 하나라도 같이 있다면 True를 그렇지 않으면 False를 출력하세요."
   ]
  },
  {
   "cell_type": "code",
   "execution_count": 1,
   "id": "21a83082",
   "metadata": {},
   "outputs": [
    {
     "name": "stdout",
     "output_type": "stream",
     "text": [
      "치즈 달걀\n",
      "True\n"
     ]
    }
   ],
   "source": [
    "# 1번을 해보세요.\n",
    "x=input().split()\n",
    "\n",
    "# 2번을 해보세요.\n",
    "def check(x):\n",
    "    if '치즈' in x and '달걀' in x:\n",
    "        return True\n",
    "    if '고구마' in x and '김치' in x:\n",
    "        return True\n",
    "    if '감자' in x and '토마토' in x:\n",
    "        return True\n",
    "        \n",
    "    return False\n",
    "    \n",
    "if check(x):\n",
    "    print('True')\n",
    "else:\n",
    "    print('False')"
   ]
  },
  {
   "cell_type": "markdown",
   "id": "5aa1a546",
   "metadata": {},
   "source": [
    "## 한 번에 여러 입력받기 2"
   ]
  },
  {
   "cell_type": "markdown",
   "id": "54e17ed6",
   "metadata": {},
   "source": [
    "1. 공백을 기준으로 입력되는 숫자를 리스트에 저장하세요.\n",
    "\n",
    "2. 리스트의 모든 수에 대한 평균을 출력해 봅시다. 단, 소수점 아래는 모두 버림 합니다."
   ]
  },
  {
   "cell_type": "code",
   "execution_count": 3,
   "id": "76aead5a",
   "metadata": {},
   "outputs": [
    {
     "name": "stdout",
     "output_type": "stream",
     "text": [
      "16 25 72 47 43\n",
      "40\n"
     ]
    }
   ],
   "source": [
    "# 1번을 해보세요.\n",
    "a=list(map(int, input().split()))\n",
    "# 2번을 해보세요.\n",
    "print(sum(a)//len(a))"
   ]
  },
  {
   "cell_type": "markdown",
   "id": "ab3482f0",
   "metadata": {},
   "source": [
    "## 충성! 입대를 명 받았습니다!"
   ]
  },
  {
   "cell_type": "markdown",
   "id": "14df6e31",
   "metadata": {},
   "source": [
    "1. soldier 리스트를 오름차순으로 정렬하세요.\n",
    "\n",
    "2. soldier 리스트의 길이를 count 변수에 저장하세요."
   ]
  },
  {
   "cell_type": "code",
   "execution_count": 4,
   "id": "05c703fa",
   "metadata": {},
   "outputs": [
    {
     "name": "stdout",
     "output_type": "stream",
     "text": [
      "[1, 2, 3, 4, 5, 6, 7, 8, 9, 10, 11, 12, 13]\n",
      "13\n"
     ]
    }
   ],
   "source": [
    "# 훈련병들이 있는 리스트입니다.\n",
    "soldier = [12, 2, 5, 3, 7, 4, 10, 8, 1, 9, 13, 11, 6]\n",
    "\n",
    "# 1번을 해보세요.\n",
    "soldier.sort()\n",
    "\n",
    "# 2번을 해보세요.\n",
    "count=len(soldier)\n",
    "\n",
    "# 채점을 위한 코드입니다. 수정 하지 마세요!\n",
    "print(soldier)\n",
    "print(count)"
   ]
  },
  {
   "cell_type": "markdown",
   "id": "45ba7052",
   "metadata": {},
   "source": [
    "## 누구세요?\n",
    "친구 목록이 적힌 friend 리스트가 있습니다.\n",
    "\n",
    "파티에 친구들을 초대했는데, 집에 벨이 울리면 누군지 물어봅니다. 친구들은 \"나 '누구'\" 라고 대답하네요.\n",
    "\n",
    "하지만 처음 보는 사람들은 \"처음 뵙겠습니다\" 라고 대답합니다."
   ]
  },
  {
   "cell_type": "markdown",
   "id": "237da368",
   "metadata": {},
   "source": [
    "1. 문자열을 입력받아 name에 저장하세요.\n",
    "\n",
    "2. 입력받은 문자열이 friend리스트에 있으면 나 'name' 을 출력하고 리스트에 없으면 처음 뵙겠습니다 를 출력하세요."
   ]
  },
  {
   "cell_type": "code",
   "execution_count": 5,
   "id": "ab269429",
   "metadata": {},
   "outputs": [
    {
     "name": "stdout",
     "output_type": "stream",
     "text": [
      "손원준\n",
      "처음 뵙겠습니다\n"
     ]
    }
   ],
   "source": [
    "# 친구 목록 입니다. 수정 하지 마세요!\n",
    "friend = ['엘리스 토끼', '체셔 고양이', '모자장수', '도도새', '캐터필러', '하트여왕']\n",
    "\n",
    "# 1번을 해보세요.\n",
    "name = input()\n",
    "\n",
    "# 2번을 해보세요.\n",
    "if name not in friend:\n",
    "    print('처음 뵙겠습니다')\n",
    "else:\n",
    "    print('나',name)"
   ]
  },
  {
   "cell_type": "code",
   "execution_count": null,
   "id": "5c9db960",
   "metadata": {},
   "outputs": [],
   "source": []
  }
 ],
 "metadata": {
  "kernelspec": {
   "display_name": "Python 3 (ipykernel)",
   "language": "python",
   "name": "python3"
  },
  "language_info": {
   "codemirror_mode": {
    "name": "ipython",
    "version": 3
   },
   "file_extension": ".py",
   "mimetype": "text/x-python",
   "name": "python",
   "nbconvert_exporter": "python",
   "pygments_lexer": "ipython3",
   "version": "3.9.7"
  }
 },
 "nbformat": 4,
 "nbformat_minor": 5
}
